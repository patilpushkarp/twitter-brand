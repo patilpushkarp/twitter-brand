{
 "cells": [
  {
   "attachments": {},
   "cell_type": "markdown",
   "metadata": {},
   "source": [
    "# Topic Modeling: Latent Dirichlet Allocation (LDA)"
   ]
  },
  {
   "cell_type": "code",
   "execution_count": 1,
   "metadata": {},
   "outputs": [
    {
     "name": "stderr",
     "output_type": "stream",
     "text": [
      "/Users/pushkar/miniforge3/envs/project/lib/python3.8/site-packages/past/builtins/misc.py:45: DeprecationWarning: the imp module is deprecated in favour of importlib; see the module's documentation for alternative uses\n",
      "  from imp import reload\n"
     ]
    }
   ],
   "source": [
    "import re\n",
    "import gensim\n",
    "import pandas as pd\n",
    "import swifter\n",
    "import pyLDAvis\n",
    "import pyLDAvis.gensim_models\n",
    "\n",
    "import plotly.express as px\n",
    "\n",
    "from tqdm import tqdm\n",
    "\n",
    "pyLDAvis.enable_notebook()\n",
    "tqdm.pandas()"
   ]
  },
  {
   "cell_type": "code",
   "execution_count": 2,
   "metadata": {},
   "outputs": [],
   "source": [
    "df = pd.read_hdf('./../../code/data/starbucks/data.h5', key='preprocessed_starbucks')"
   ]
  },
  {
   "cell_type": "code",
   "execution_count": 3,
   "metadata": {},
   "outputs": [
    {
     "data": {
      "text/plain": [
       "(3313, 29)"
      ]
     },
     "execution_count": 3,
     "metadata": {},
     "output_type": "execute_result"
    }
   ],
   "source": [
    "df.shape"
   ]
  },
  {
   "cell_type": "code",
   "execution_count": 4,
   "metadata": {},
   "outputs": [
    {
     "data": {
      "application/vnd.jupyter.widget-view+json": {
       "model_id": "4d832e229d83439f98fb3942f62e98be",
       "version_major": 2,
       "version_minor": 0
      },
      "text/plain": [
       "Pandas Apply:   0%|          | 0/3313 [00:00<?, ?it/s]"
      ]
     },
     "metadata": {},
     "output_type": "display_data"
    },
    {
     "data": {
      "application/vnd.jupyter.widget-view+json": {
       "model_id": "77020bad9e7f4fdcba7dd9d9f0bcc0ef",
       "version_major": 2,
       "version_minor": 0
      },
      "text/plain": [
       "Pandas Apply:   0%|          | 0/3313 [00:00<?, ?it/s]"
      ]
     },
     "metadata": {},
     "output_type": "display_data"
    }
   ],
   "source": [
    "def sentence_to_words(sentences):\n",
    "    \"\"\"Function to convert sentences to words\"\"\"\n",
    "    return (gensim.utils.simple_preprocess(str(sentence), deacc=True) for sentence in sentences)\n",
    "\n",
    "data = df['preprocessed_tweet'].values.tolist()\n",
    "data_words = list(sentence_to_words(data))\n",
    "bigram = gensim.models.phrases.Phrases(data_words, min_count=5, threshold=10, connector_words=gensim.models.phrases.ENGLISH_CONNECTOR_WORDS)\n",
    "bigram_model = gensim.models.phrases.Phraser(bigram)\n",
    "df.loc[:, 'sep_words'] = df['preprocessed_tweet'].swifter.apply(lambda x: list(sentence_to_words([x]))[0])\n",
    "df['bigram'] = df['sep_words'].swifter.apply(lambda x: bigram_model[x])"
   ]
  },
  {
   "cell_type": "code",
   "execution_count": 5,
   "metadata": {},
   "outputs": [],
   "source": [
    "id2word = gensim.corpora.Dictionary(df['bigram'].values.tolist())\n",
    "corpus = [id2word.doc2bow(text) for text in df['bigram'].values.tolist()]"
   ]
  },
  {
   "cell_type": "code",
   "execution_count": 6,
   "metadata": {},
   "outputs": [
    {
     "name": "stderr",
     "output_type": "stream",
     "text": [
      "100%|██████████| 7/7 [00:23<00:00,  3.33s/it]\n"
     ]
    }
   ],
   "source": [
    "topics_range = range(3, 10, 1)\n",
    "\n",
    "model_results = {\n",
    "    'Number of topics': [],\n",
    "    'Coherence Score': []\n",
    "}\n",
    "\n",
    "for k in tqdm(topics_range):\n",
    "\n",
    "    lda_model = gensim.models.LdaMulticore(corpus=corpus,\n",
    "                                            id2word=id2word,\n",
    "                                            num_topics=k,\n",
    "                                            random_state=42,\n",
    "                                            chunksize=500,\n",
    "                                            passes=10,\n",
    "                                            alpha='asymmetric',\n",
    "                                            eta='auto',\n",
    "                                            per_word_topics=True)\n",
    "    \n",
    "    coherence_model_lda = gensim.models.CoherenceModel(model=lda_model, \n",
    "                                                    texts=df['bigram'].values.tolist(), \n",
    "                                                    dictionary=id2word,\n",
    "                                                    coherence='u_mass')\n",
    "    coherence_score = coherence_model_lda.get_coherence()\n",
    "\n",
    "    model_results['Number of topics'].append(k)\n",
    "    model_results['Coherence Score'].append(coherence_score)\n"
   ]
  },
  {
   "cell_type": "code",
   "execution_count": 7,
   "metadata": {},
   "outputs": [
    {
     "data": {
      "text/html": [
       "<div>\n",
       "<style scoped>\n",
       "    .dataframe tbody tr th:only-of-type {\n",
       "        vertical-align: middle;\n",
       "    }\n",
       "\n",
       "    .dataframe tbody tr th {\n",
       "        vertical-align: top;\n",
       "    }\n",
       "\n",
       "    .dataframe thead th {\n",
       "        text-align: right;\n",
       "    }\n",
       "</style>\n",
       "<table border=\"1\" class=\"dataframe\">\n",
       "  <thead>\n",
       "    <tr style=\"text-align: right;\">\n",
       "      <th></th>\n",
       "      <th>Number of topics</th>\n",
       "      <th>Coherence Score</th>\n",
       "    </tr>\n",
       "  </thead>\n",
       "  <tbody>\n",
       "    <tr>\n",
       "      <th>0</th>\n",
       "      <td>3</td>\n",
       "      <td>-7.062664</td>\n",
       "    </tr>\n",
       "    <tr>\n",
       "      <th>1</th>\n",
       "      <td>4</td>\n",
       "      <td>-7.452986</td>\n",
       "    </tr>\n",
       "    <tr>\n",
       "      <th>2</th>\n",
       "      <td>5</td>\n",
       "      <td>-6.083892</td>\n",
       "    </tr>\n",
       "    <tr>\n",
       "      <th>3</th>\n",
       "      <td>6</td>\n",
       "      <td>-6.740066</td>\n",
       "    </tr>\n",
       "    <tr>\n",
       "      <th>4</th>\n",
       "      <td>7</td>\n",
       "      <td>-7.565121</td>\n",
       "    </tr>\n",
       "    <tr>\n",
       "      <th>5</th>\n",
       "      <td>8</td>\n",
       "      <td>-8.779543</td>\n",
       "    </tr>\n",
       "    <tr>\n",
       "      <th>6</th>\n",
       "      <td>9</td>\n",
       "      <td>-8.249490</td>\n",
       "    </tr>\n",
       "  </tbody>\n",
       "</table>\n",
       "</div>"
      ],
      "text/plain": [
       "   Number of topics  Coherence Score\n",
       "0                 3        -7.062664\n",
       "1                 4        -7.452986\n",
       "2                 5        -6.083892\n",
       "3                 6        -6.740066\n",
       "4                 7        -7.565121\n",
       "5                 8        -8.779543\n",
       "6                 9        -8.249490"
      ]
     },
     "execution_count": 7,
     "metadata": {},
     "output_type": "execute_result"
    }
   ],
   "source": [
    "model_results = pd.DataFrame(model_results)\n",
    "model_results"
   ]
  },
  {
   "cell_type": "code",
   "execution_count": 8,
   "metadata": {},
   "outputs": [
    {
     "name": "stderr",
     "output_type": "stream",
     "text": [
      "/Users/pushkar/miniforge3/envs/project/lib/python3.8/site-packages/plotly/io/_renderers.py:395: DeprecationWarning:\n",
      "\n",
      "distutils Version classes are deprecated. Use packaging.version instead.\n",
      "\n",
      "/Users/pushkar/miniforge3/envs/project/lib/python3.8/site-packages/plotly/io/_renderers.py:395: DeprecationWarning:\n",
      "\n",
      "distutils Version classes are deprecated. Use packaging.version instead.\n",
      "\n"
     ]
    },
    {
     "data": {
      "application/vnd.plotly.v1+json": {
       "config": {
        "plotlyServerURL": "https://plot.ly"
       },
       "data": [
        {
         "hovertemplate": "Number of topics=%{x}<br>Coherence Score=%{y}<extra></extra>",
         "legendgroup": "",
         "line": {
          "color": "#636efa",
          "dash": "solid"
         },
         "marker": {
          "symbol": "circle"
         },
         "mode": "lines+markers",
         "name": "",
         "orientation": "v",
         "showlegend": false,
         "type": "scatter",
         "x": [
          3,
          4,
          5,
          6,
          7,
          8,
          9
         ],
         "xaxis": "x",
         "y": [
          -7.062663804856283,
          -7.4529864142180955,
          -6.083892235904411,
          -6.740066293504597,
          -7.565120570588052,
          -8.7795433192598,
          -8.249490292171123
         ],
         "yaxis": "y"
        }
       ],
       "layout": {
        "legend": {
         "tracegroupgap": 0
        },
        "template": {
         "data": {
          "bar": [
           {
            "error_x": {
             "color": "#2a3f5f"
            },
            "error_y": {
             "color": "#2a3f5f"
            },
            "marker": {
             "line": {
              "color": "#E5ECF6",
              "width": 0.5
             },
             "pattern": {
              "fillmode": "overlay",
              "size": 10,
              "solidity": 0.2
             }
            },
            "type": "bar"
           }
          ],
          "barpolar": [
           {
            "marker": {
             "line": {
              "color": "#E5ECF6",
              "width": 0.5
             },
             "pattern": {
              "fillmode": "overlay",
              "size": 10,
              "solidity": 0.2
             }
            },
            "type": "barpolar"
           }
          ],
          "carpet": [
           {
            "aaxis": {
             "endlinecolor": "#2a3f5f",
             "gridcolor": "white",
             "linecolor": "white",
             "minorgridcolor": "white",
             "startlinecolor": "#2a3f5f"
            },
            "baxis": {
             "endlinecolor": "#2a3f5f",
             "gridcolor": "white",
             "linecolor": "white",
             "minorgridcolor": "white",
             "startlinecolor": "#2a3f5f"
            },
            "type": "carpet"
           }
          ],
          "choropleth": [
           {
            "colorbar": {
             "outlinewidth": 0,
             "ticks": ""
            },
            "type": "choropleth"
           }
          ],
          "contour": [
           {
            "colorbar": {
             "outlinewidth": 0,
             "ticks": ""
            },
            "colorscale": [
             [
              0,
              "#0d0887"
             ],
             [
              0.1111111111111111,
              "#46039f"
             ],
             [
              0.2222222222222222,
              "#7201a8"
             ],
             [
              0.3333333333333333,
              "#9c179e"
             ],
             [
              0.4444444444444444,
              "#bd3786"
             ],
             [
              0.5555555555555556,
              "#d8576b"
             ],
             [
              0.6666666666666666,
              "#ed7953"
             ],
             [
              0.7777777777777778,
              "#fb9f3a"
             ],
             [
              0.8888888888888888,
              "#fdca26"
             ],
             [
              1,
              "#f0f921"
             ]
            ],
            "type": "contour"
           }
          ],
          "contourcarpet": [
           {
            "colorbar": {
             "outlinewidth": 0,
             "ticks": ""
            },
            "type": "contourcarpet"
           }
          ],
          "heatmap": [
           {
            "colorbar": {
             "outlinewidth": 0,
             "ticks": ""
            },
            "colorscale": [
             [
              0,
              "#0d0887"
             ],
             [
              0.1111111111111111,
              "#46039f"
             ],
             [
              0.2222222222222222,
              "#7201a8"
             ],
             [
              0.3333333333333333,
              "#9c179e"
             ],
             [
              0.4444444444444444,
              "#bd3786"
             ],
             [
              0.5555555555555556,
              "#d8576b"
             ],
             [
              0.6666666666666666,
              "#ed7953"
             ],
             [
              0.7777777777777778,
              "#fb9f3a"
             ],
             [
              0.8888888888888888,
              "#fdca26"
             ],
             [
              1,
              "#f0f921"
             ]
            ],
            "type": "heatmap"
           }
          ],
          "heatmapgl": [
           {
            "colorbar": {
             "outlinewidth": 0,
             "ticks": ""
            },
            "colorscale": [
             [
              0,
              "#0d0887"
             ],
             [
              0.1111111111111111,
              "#46039f"
             ],
             [
              0.2222222222222222,
              "#7201a8"
             ],
             [
              0.3333333333333333,
              "#9c179e"
             ],
             [
              0.4444444444444444,
              "#bd3786"
             ],
             [
              0.5555555555555556,
              "#d8576b"
             ],
             [
              0.6666666666666666,
              "#ed7953"
             ],
             [
              0.7777777777777778,
              "#fb9f3a"
             ],
             [
              0.8888888888888888,
              "#fdca26"
             ],
             [
              1,
              "#f0f921"
             ]
            ],
            "type": "heatmapgl"
           }
          ],
          "histogram": [
           {
            "marker": {
             "pattern": {
              "fillmode": "overlay",
              "size": 10,
              "solidity": 0.2
             }
            },
            "type": "histogram"
           }
          ],
          "histogram2d": [
           {
            "colorbar": {
             "outlinewidth": 0,
             "ticks": ""
            },
            "colorscale": [
             [
              0,
              "#0d0887"
             ],
             [
              0.1111111111111111,
              "#46039f"
             ],
             [
              0.2222222222222222,
              "#7201a8"
             ],
             [
              0.3333333333333333,
              "#9c179e"
             ],
             [
              0.4444444444444444,
              "#bd3786"
             ],
             [
              0.5555555555555556,
              "#d8576b"
             ],
             [
              0.6666666666666666,
              "#ed7953"
             ],
             [
              0.7777777777777778,
              "#fb9f3a"
             ],
             [
              0.8888888888888888,
              "#fdca26"
             ],
             [
              1,
              "#f0f921"
             ]
            ],
            "type": "histogram2d"
           }
          ],
          "histogram2dcontour": [
           {
            "colorbar": {
             "outlinewidth": 0,
             "ticks": ""
            },
            "colorscale": [
             [
              0,
              "#0d0887"
             ],
             [
              0.1111111111111111,
              "#46039f"
             ],
             [
              0.2222222222222222,
              "#7201a8"
             ],
             [
              0.3333333333333333,
              "#9c179e"
             ],
             [
              0.4444444444444444,
              "#bd3786"
             ],
             [
              0.5555555555555556,
              "#d8576b"
             ],
             [
              0.6666666666666666,
              "#ed7953"
             ],
             [
              0.7777777777777778,
              "#fb9f3a"
             ],
             [
              0.8888888888888888,
              "#fdca26"
             ],
             [
              1,
              "#f0f921"
             ]
            ],
            "type": "histogram2dcontour"
           }
          ],
          "mesh3d": [
           {
            "colorbar": {
             "outlinewidth": 0,
             "ticks": ""
            },
            "type": "mesh3d"
           }
          ],
          "parcoords": [
           {
            "line": {
             "colorbar": {
              "outlinewidth": 0,
              "ticks": ""
             }
            },
            "type": "parcoords"
           }
          ],
          "pie": [
           {
            "automargin": true,
            "type": "pie"
           }
          ],
          "scatter": [
           {
            "fillpattern": {
             "fillmode": "overlay",
             "size": 10,
             "solidity": 0.2
            },
            "type": "scatter"
           }
          ],
          "scatter3d": [
           {
            "line": {
             "colorbar": {
              "outlinewidth": 0,
              "ticks": ""
             }
            },
            "marker": {
             "colorbar": {
              "outlinewidth": 0,
              "ticks": ""
             }
            },
            "type": "scatter3d"
           }
          ],
          "scattercarpet": [
           {
            "marker": {
             "colorbar": {
              "outlinewidth": 0,
              "ticks": ""
             }
            },
            "type": "scattercarpet"
           }
          ],
          "scattergeo": [
           {
            "marker": {
             "colorbar": {
              "outlinewidth": 0,
              "ticks": ""
             }
            },
            "type": "scattergeo"
           }
          ],
          "scattergl": [
           {
            "marker": {
             "colorbar": {
              "outlinewidth": 0,
              "ticks": ""
             }
            },
            "type": "scattergl"
           }
          ],
          "scattermapbox": [
           {
            "marker": {
             "colorbar": {
              "outlinewidth": 0,
              "ticks": ""
             }
            },
            "type": "scattermapbox"
           }
          ],
          "scatterpolar": [
           {
            "marker": {
             "colorbar": {
              "outlinewidth": 0,
              "ticks": ""
             }
            },
            "type": "scatterpolar"
           }
          ],
          "scatterpolargl": [
           {
            "marker": {
             "colorbar": {
              "outlinewidth": 0,
              "ticks": ""
             }
            },
            "type": "scatterpolargl"
           }
          ],
          "scatterternary": [
           {
            "marker": {
             "colorbar": {
              "outlinewidth": 0,
              "ticks": ""
             }
            },
            "type": "scatterternary"
           }
          ],
          "surface": [
           {
            "colorbar": {
             "outlinewidth": 0,
             "ticks": ""
            },
            "colorscale": [
             [
              0,
              "#0d0887"
             ],
             [
              0.1111111111111111,
              "#46039f"
             ],
             [
              0.2222222222222222,
              "#7201a8"
             ],
             [
              0.3333333333333333,
              "#9c179e"
             ],
             [
              0.4444444444444444,
              "#bd3786"
             ],
             [
              0.5555555555555556,
              "#d8576b"
             ],
             [
              0.6666666666666666,
              "#ed7953"
             ],
             [
              0.7777777777777778,
              "#fb9f3a"
             ],
             [
              0.8888888888888888,
              "#fdca26"
             ],
             [
              1,
              "#f0f921"
             ]
            ],
            "type": "surface"
           }
          ],
          "table": [
           {
            "cells": {
             "fill": {
              "color": "#EBF0F8"
             },
             "line": {
              "color": "white"
             }
            },
            "header": {
             "fill": {
              "color": "#C8D4E3"
             },
             "line": {
              "color": "white"
             }
            },
            "type": "table"
           }
          ]
         },
         "layout": {
          "annotationdefaults": {
           "arrowcolor": "#2a3f5f",
           "arrowhead": 0,
           "arrowwidth": 1
          },
          "autotypenumbers": "strict",
          "coloraxis": {
           "colorbar": {
            "outlinewidth": 0,
            "ticks": ""
           }
          },
          "colorscale": {
           "diverging": [
            [
             0,
             "#8e0152"
            ],
            [
             0.1,
             "#c51b7d"
            ],
            [
             0.2,
             "#de77ae"
            ],
            [
             0.3,
             "#f1b6da"
            ],
            [
             0.4,
             "#fde0ef"
            ],
            [
             0.5,
             "#f7f7f7"
            ],
            [
             0.6,
             "#e6f5d0"
            ],
            [
             0.7,
             "#b8e186"
            ],
            [
             0.8,
             "#7fbc41"
            ],
            [
             0.9,
             "#4d9221"
            ],
            [
             1,
             "#276419"
            ]
           ],
           "sequential": [
            [
             0,
             "#0d0887"
            ],
            [
             0.1111111111111111,
             "#46039f"
            ],
            [
             0.2222222222222222,
             "#7201a8"
            ],
            [
             0.3333333333333333,
             "#9c179e"
            ],
            [
             0.4444444444444444,
             "#bd3786"
            ],
            [
             0.5555555555555556,
             "#d8576b"
            ],
            [
             0.6666666666666666,
             "#ed7953"
            ],
            [
             0.7777777777777778,
             "#fb9f3a"
            ],
            [
             0.8888888888888888,
             "#fdca26"
            ],
            [
             1,
             "#f0f921"
            ]
           ],
           "sequentialminus": [
            [
             0,
             "#0d0887"
            ],
            [
             0.1111111111111111,
             "#46039f"
            ],
            [
             0.2222222222222222,
             "#7201a8"
            ],
            [
             0.3333333333333333,
             "#9c179e"
            ],
            [
             0.4444444444444444,
             "#bd3786"
            ],
            [
             0.5555555555555556,
             "#d8576b"
            ],
            [
             0.6666666666666666,
             "#ed7953"
            ],
            [
             0.7777777777777778,
             "#fb9f3a"
            ],
            [
             0.8888888888888888,
             "#fdca26"
            ],
            [
             1,
             "#f0f921"
            ]
           ]
          },
          "colorway": [
           "#636efa",
           "#EF553B",
           "#00cc96",
           "#ab63fa",
           "#FFA15A",
           "#19d3f3",
           "#FF6692",
           "#B6E880",
           "#FF97FF",
           "#FECB52"
          ],
          "font": {
           "color": "#2a3f5f"
          },
          "geo": {
           "bgcolor": "white",
           "lakecolor": "white",
           "landcolor": "#E5ECF6",
           "showlakes": true,
           "showland": true,
           "subunitcolor": "white"
          },
          "hoverlabel": {
           "align": "left"
          },
          "hovermode": "closest",
          "mapbox": {
           "style": "light"
          },
          "paper_bgcolor": "white",
          "plot_bgcolor": "#E5ECF6",
          "polar": {
           "angularaxis": {
            "gridcolor": "white",
            "linecolor": "white",
            "ticks": ""
           },
           "bgcolor": "#E5ECF6",
           "radialaxis": {
            "gridcolor": "white",
            "linecolor": "white",
            "ticks": ""
           }
          },
          "scene": {
           "xaxis": {
            "backgroundcolor": "#E5ECF6",
            "gridcolor": "white",
            "gridwidth": 2,
            "linecolor": "white",
            "showbackground": true,
            "ticks": "",
            "zerolinecolor": "white"
           },
           "yaxis": {
            "backgroundcolor": "#E5ECF6",
            "gridcolor": "white",
            "gridwidth": 2,
            "linecolor": "white",
            "showbackground": true,
            "ticks": "",
            "zerolinecolor": "white"
           },
           "zaxis": {
            "backgroundcolor": "#E5ECF6",
            "gridcolor": "white",
            "gridwidth": 2,
            "linecolor": "white",
            "showbackground": true,
            "ticks": "",
            "zerolinecolor": "white"
           }
          },
          "shapedefaults": {
           "line": {
            "color": "#2a3f5f"
           }
          },
          "ternary": {
           "aaxis": {
            "gridcolor": "white",
            "linecolor": "white",
            "ticks": ""
           },
           "baxis": {
            "gridcolor": "white",
            "linecolor": "white",
            "ticks": ""
           },
           "bgcolor": "#E5ECF6",
           "caxis": {
            "gridcolor": "white",
            "linecolor": "white",
            "ticks": ""
           }
          },
          "title": {
           "x": 0.05
          },
          "xaxis": {
           "automargin": true,
           "gridcolor": "white",
           "linecolor": "white",
           "ticks": "",
           "title": {
            "standoff": 15
           },
           "zerolinecolor": "white",
           "zerolinewidth": 2
          },
          "yaxis": {
           "automargin": true,
           "gridcolor": "white",
           "linecolor": "white",
           "ticks": "",
           "title": {
            "standoff": 15
           },
           "zerolinecolor": "white",
           "zerolinewidth": 2
          }
         }
        },
        "title": {
         "text": "Scree Plot"
        },
        "xaxis": {
         "anchor": "y",
         "domain": [
          0,
          1
         ],
         "title": {
          "text": "Number of topics"
         }
        },
        "yaxis": {
         "anchor": "x",
         "domain": [
          0,
          1
         ],
         "title": {
          "text": "Coherence Score"
         }
        }
       }
      }
     },
     "metadata": {},
     "output_type": "display_data"
    }
   ],
   "source": [
    "fig = px.line(model_results, x=\"Number of topics\", y=\"Coherence Score\", title='Scree Plot', markers=True)\n",
    "fig.show()"
   ]
  },
  {
   "attachments": {},
   "cell_type": "markdown",
   "metadata": {},
   "source": [
    "The number of topics corresponding to the lowest coherence score is 5."
   ]
  },
  {
   "cell_type": "code",
   "execution_count": 14,
   "metadata": {},
   "outputs": [],
   "source": [
    "lda_model = gensim.models.LdaMulticore(corpus=corpus,\n",
    "                                            id2word=id2word,\n",
    "                                            num_topics=5,\n",
    "                                            random_state=42,\n",
    "                                            chunksize=100,\n",
    "                                            passes=3,\n",
    "                                            alpha='asymmetric',\n",
    "                                            eta='auto',\n",
    "                                            per_word_topics=True)\n",
    "    \n",
    "coherence_model_lda = gensim.models.CoherenceModel(model=lda_model, \n",
    "                                                texts=df['bigram'].values.tolist(), \n",
    "                                                dictionary=id2word, \n",
    "                                                coherence='u_mass')\n",
    "coherence_score = coherence_model_lda.get_coherence()"
   ]
  },
  {
   "cell_type": "code",
   "execution_count": 15,
   "metadata": {},
   "outputs": [
    {
     "data": {
      "text/html": [
       "\n",
       "<link rel=\"stylesheet\" type=\"text/css\" href=\"https://cdn.jsdelivr.net/gh/bmabey/pyLDAvis@3.3.1/pyLDAvis/js/ldavis.v1.0.0.css\">\n",
       "\n",
       "\n",
       "<div id=\"ldavis_el8078958878738723214082821\"></div>\n",
       "<script type=\"text/javascript\">\n",
       "\n",
       "var ldavis_el8078958878738723214082821_data = {\"mdsDat\": {\"x\": [0.11087924401102177, 0.011384488861570901, 0.00635700968187999, 0.023906469095977448, -0.15252721165045002], \"y\": [0.016139051389832012, 0.12510169375178612, -0.039690006347965386, -0.10457553145631589, 0.0030247926626631293], \"topics\": [1, 2, 3, 4, 5], \"cluster\": [1, 1, 1, 1, 1], \"Freq\": [50.15058517497906, 15.361374854692247, 13.306759832205378, 11.483632434054341, 9.697647704068979]}, \"tinfo\": {\"Term\": [\"like\", \"want\", \"order\", \"pay\", \"work\", \"coffee\", \"barista\", \"hour\", \"know\", \"buy\", \"drink\", \"good\", \"minute\", \"people\", \"taste\", \"day\", \"time\", \"love\", \"use\", \"check\", \"worker\", \"way\", \"talk\", \"morning\", \"bad\", \"eat\", \"latte\", \"right\", \"week\", \"think\", \"holiday\", \"add_closet\", \"check_listing\", \"lady\", \"cold_brew\", \"pumpkin\", \"mug\", \"sip\", \"post\", \"holiday_season\", \"help\", \"busy\", \"holiday_drink\", \"cafe\", \"guide_dog\", \"lmao\", \"wtf\", \"open\", \"walk\", \"menu\", \"seasonal\", \"visit\", \"work_hire\", \"laugh\", \"tf\", \"gorgeous\", \"hey\", \"christmas\", \"ornament\", \"holiday_cup\", \"friend\", \"cup\", \"new\", \"rn\", \"twitter\", \"home\", \"happy\", \"drink\", \"month\", \"spend\", \"coffee\", \"day\", \"like\", \"good\", \"stop\", \"thing\", \"year\", \"big\", \"local\", \"need\", \"people\", \"buy\", \"know\", \"order\", \"want\", \"time\", \"try\", \"employee\", \"today\", \"job\", \"latte\", \"think\", \"free\", \"work\", \"love\", \"pay\", \"ur\", \"karen_employee\", \"long_island\", \"totally\", \"pls\", \"drinks\", \"obviously\", \"wife\", \"husband\", \"cheese_danish\", \"loyalty\", \"god\", \"bathroom\", \"customer_service\", \"canada\", \"billionaire\", \"north\", \"flirt\", \"left\", \"dress\", \"sm\", \"bs\", \"remind\", \"continue\", \"bitter\", \"india\", \"africa\", \"ko\", \"include\", \"interview\", \"ha\", \"cookie\", \"minute\", \"gingerbread_latte\", \"trash\", \"late_job\", \"mobile_order\", \"personally\", \"join_team\", \"win\", \"bad\", \"pay\", \"iced_sugar\", \"worker\", \"dunkin\", \"drink\", \"latte\", \"love\", \"good\", \"bring\", \"lol\", \"feel\", \"high\", \"ill\", \"drive\", \"morning\", \"girl\", \"happen\", \"hot\", \"know\", \"think\", \"coffee\", \"try\", \"want\", \"come\", \"like\", \"today\", \"order\", \"sandwich\", \"sticker\", \"medicine_ball\", \"secret\", \"join\", \"maam\", \"grow\", \"personal\", \"town\", \"entire\", \"book\", \"air\", \"referral\", \"christian\", \"am\", \"timer\", \"plaza\", \"beg\", \"immaculate\", \"general\", \"noble\", \"gang\", \"finally\", \"tick\", \"spill\", \"sick\", \"blvd\", \"score_job\", \"fuel\", \"bubble\", \"ugh\", \"traffic\", \"meeting\", \"enter_win\", \"btw\", \"value\", \"check\", \"conservative\", \"vote\", \"ppl\", \"wa\", \"suck\", \"work\", \"sell\", \"time\", \"buy\", \"blue\", \"week\", \"coffee\", \"elon\", \"morning\", \"people\", \"day\", \"care\", \"like\", \"think\", \"store\", \"great\", \"bc\", \"use\", \"gift_card\", \"today\", \"free\", \"way\", \"literally\", \"line\", \"pay\", \"ask\", \"car\", \"year\", \"good\", \"order\", \"latte\", \"supply\", \"polygon\", \"af\", \"action\", \"marketing\", \"exact\", \"partner\", \"nope\", \"footprint\", \"carbon\", \"google\", \"lemonade\", \"affirmative\", \"blonde\", \"stephen\", \"crowd\", \"result\", \"recent\", \"page\", \"plastic_cup\", \"tbh\", \"central\", \"shoot\", \"outlet\", \"office\", \"hungry\", \"giveaway\", \"ethereum\", \"ahead\", \"praline\", \"ticket\", \"study\", \"omfg\", \"woke\", \"management\", \"male\", \"hour\", \"salt\", \"force\", \"completely\", \"talk\", \"want\", \"barista\", \"like\", \"order\", \"taste\", \"scream\", \"use\", \"program\", \"company\", \"work\", \"shit\", \"coffee\", \"wait\", \"target\", \"near\", \"dog\", \"start\", \"people\", \"pay\", \"think\", \"know\", \"come\", \"store\", \"latte\", \"love\", \"day\", \"drink\", \"today\", \"hate\", \"line\", \"need\", \"song\", \"book_harlem\", \"brooklyn_public\", \"cafe_worker\", \"council_run\", \"lawmaker_plots\", \"library_sell\", \"push_join\", \"story\", \"pistachio\", \"replace\", \"random\", \"celiac\", \"cover\", \"theirs\", \"purse\", \"swirl\", \"stare\", \"contamination\", \"dairy\", \"chef\", \"valley\", \"bhavan\", \"crush\", \"litter\", \"remove\", \"position\", \"dream\", \"addict\", \"scene\", \"bike\", \"park\", \"eat\", \"ave\", \"ice\", \"ass\", \"half\", \"tall\", \"black\", \"fr\", \"sugar\", \"inside\", \"white\", \"know\", \"place\", \"union\", \"way\", \"coffee\", \"work\", \"believe\", \"right\", \"need\", \"ask\", \"play\", \"think\", \"girl\", \"lol\", \"let\", \"drive\", \"today\", \"tell\", \"forget\", \"great\", \"time\", \"come\"], \"Freq\": [244.0, 118.0, 136.0, 110.0, 123.0, 322.0, 71.0, 34.0, 115.0, 95.0, 253.0, 135.0, 28.0, 129.0, 28.0, 146.0, 115.0, 80.0, 62.0, 27.0, 37.0, 54.0, 23.0, 38.0, 31.0, 18.0, 108.0, 54.0, 39.0, 106.0, 41.7516060385076, 20.596712399263264, 20.595911251867676, 20.38788184562292, 20.031173768951724, 18.06661048998339, 18.15090604243707, 17.566957829315008, 21.3809754734292, 16.724711012089674, 22.675191274604703, 16.320925721676293, 38.98573429410705, 14.841473998024938, 15.639024633977499, 17.290175410212463, 12.705344724169816, 23.49698082109583, 43.88123789493591, 24.055128446500863, 11.456886064323308, 16.460202115063254, 9.78615199633114, 9.632604114504757, 9.389634457378792, 9.214895386574685, 12.171256731564473, 65.22276526277638, 8.736356181176937, 16.714852137058994, 25.22387644200463, 117.16468044927592, 59.428704827428035, 19.636464414068787, 45.63134157938476, 28.944136030510247, 33.86051428305914, 185.16449150177104, 48.66355841702784, 49.308801408949115, 207.00447541161586, 100.63531774462041, 151.48223811665974, 89.94151827186234, 37.11742215180349, 52.07267588729004, 53.37722957120477, 29.797419633534954, 28.152319480986954, 67.35466890430197, 77.36829423820524, 61.27085082350015, 69.79279573111066, 78.05515767769174, 69.8648653821376, 68.5967498986488, 49.351951319724115, 35.948564908927594, 57.06666459348292, 39.74390265301562, 56.122632840012436, 54.47128877996525, 39.860396767492354, 52.3868657270943, 41.9117738909026, 39.838354009254985, 9.597930038861458, 6.417052427560878, 7.237551851949917, 6.168385323413426, 5.326373898866931, 5.233840079311625, 4.864421681856669, 5.779525771677009, 4.7340296078312525, 7.50647952525829, 3.740246245113861, 6.550390534035117, 3.594111752609738, 4.43481533094679, 3.504783732890432, 5.660893802717427, 4.56141021068001, 3.2489396698327804, 6.841414952255241, 3.035726845664834, 3.0354226754294746, 3.553362808371147, 5.304181913063432, 3.0026254876258487, 3.39336733401338, 2.7225192364082402, 2.7220250134024093, 2.7517901516455217, 9.967005654908725, 3.7777432706161673, 5.2042441867072275, 13.514316162017057, 21.813762771714543, 9.608407394979867, 10.699024574811112, 7.063154195806339, 9.340457013344484, 5.090599065160651, 5.014467271611364, 10.339670393930628, 17.287694225094743, 43.1652897488087, 7.097678161039193, 16.841271850608855, 13.399381856327665, 47.15361449219849, 28.11213217776576, 23.235283704601013, 31.261911492845257, 15.695657774936018, 16.312556197495777, 11.326299964441219, 8.813223171222846, 10.93943060413193, 14.414557953581314, 11.991307907724849, 12.947583948627313, 8.79039538811497, 9.94476819372448, 13.88777200105871, 13.212641924442114, 17.40265083946148, 11.978250467268706, 11.634111662364617, 10.080176717061688, 11.453790623372507, 10.071748327154953, 9.824386280632272, 8.141600954223849, 6.855139231057608, 6.625388360399882, 5.103389833197179, 7.34115540508161, 3.8568855749258275, 5.037495822831451, 3.1531344968402037, 5.429381412649625, 5.22172776074068, 5.775742123612677, 2.8919889264606584, 3.681494382674431, 2.977611746979708, 2.5097523811697853, 3.278252472463973, 2.5035855253353207, 2.454409551196018, 2.4627530536872535, 2.439462339849141, 5.594385128257107, 2.390132881832555, 4.674786663331944, 2.282869763695765, 3.076930495032531, 5.269004882892144, 3.8102409698667015, 6.022075570755255, 2.245505730368962, 2.212412859757929, 3.5914636389872134, 4.5860347042009755, 5.398140568436752, 4.392135883444568, 4.341685398513153, 9.982596581328531, 14.710761443841854, 5.867627680935534, 7.2080889714255685, 8.5046152233196, 4.879169956596603, 8.577971597500927, 31.6029234567022, 11.208971410512635, 27.74974825231098, 24.471158709927646, 8.230503424178787, 13.654585740929676, 48.894020168785815, 7.485367815608042, 13.047648799296516, 26.318074429441815, 27.14317699623532, 8.898345592718483, 26.1479414536061, 17.22480208278396, 13.606854856516318, 10.916029778214016, 9.83705298618121, 12.327418458328667, 9.342249953090672, 14.132850421703392, 11.826538504266383, 11.499330946008925, 9.891646420904271, 10.887327921530435, 12.08668735852275, 9.894480483974878, 8.864232779005263, 9.854247640016872, 10.378406601519849, 9.82417669228266, 9.437377996683008, 6.355676617920762, 4.8907771066433074, 4.284551110085925, 6.873388078944726, 4.050884038284767, 3.17343873651618, 3.2154617411663615, 2.8388788015787196, 3.5143119520750212, 3.511761624033303, 2.8301620805216463, 4.123088597389418, 3.7473327825527303, 3.5101843462026734, 2.611871543277347, 2.418002513753456, 2.417758289054793, 2.4157025040010445, 3.189214721975448, 4.026555217285191, 5.745054576787446, 2.8573994685496853, 6.677957005566813, 2.21368377806517, 2.2102425029283954, 2.529237483072012, 2.168845534537952, 2.476057113954612, 2.1612219715706913, 2.1799369920116374, 5.87088978928648, 4.077685574224188, 6.080180894939403, 4.273044486660277, 3.4168513840471766, 4.572485455146005, 18.986618831638083, 3.795563231776283, 6.234255730769591, 5.123997101320452, 11.08417980216616, 34.74196433725257, 23.159913805195853, 51.54142158374122, 33.517863323120295, 11.398986240531, 6.587859098612122, 16.473094794542426, 6.918601238654134, 9.919844083629219, 19.609736582172985, 10.346934230333792, 29.58178092897198, 12.352164931817093, 9.058358537185079, 5.792819347399759, 10.999324948886771, 9.782127652237644, 14.861950711410957, 13.405236175228156, 13.0317195945951, 13.260025268776362, 9.488777067241884, 9.047154027569201, 10.013537209063243, 9.229149695725328, 10.193716987207774, 10.549615393715614, 8.64934903606399, 7.582867403224307, 7.3104627342754025, 7.303519248095423, 5.529593873854917, 4.824704070230151, 4.824704070230151, 4.824704070230151, 4.824704070230151, 4.824704070230151, 4.824704070230151, 4.824704070230151, 6.804697988289515, 3.429164220582771, 3.003061066758543, 2.9672240139423547, 3.75384894827519, 3.9429939446737117, 2.261357845630449, 2.2575795445020312, 2.542456353674933, 3.568686869793195, 2.3668840451907887, 2.0356426426825664, 2.0336449544905153, 2.3428895783135415, 2.052570991754687, 2.0025799010099896, 2.316932902793207, 2.1613594139659558, 1.9988026832265784, 1.8852915538774446, 3.003504696538719, 1.8614864015400894, 2.1320583169923215, 2.8081136745050177, 9.959069310438341, 3.450678639903807, 8.520351933046742, 8.68106399807624, 5.187968609459054, 3.9793187735790925, 5.444245787550052, 4.420204440853746, 6.035680118675395, 5.9770397368166455, 6.441994080101494, 16.630327360892874, 8.21906501996922, 6.737121635144359, 9.917263026636142, 19.524130375379816, 12.839709683095878, 5.920150040488457, 8.481313054063738, 9.778062943401414, 7.770123057553466, 6.752440133536767, 8.727906211141317, 7.247824554710187, 7.056319491214928, 6.8198745684860675, 6.197642363842436, 6.029716846086921, 5.621866701441554, 5.326855605986893, 5.5362624040426445, 5.547984197013356, 5.448631168136507], \"Total\": [244.0, 118.0, 136.0, 110.0, 123.0, 322.0, 71.0, 34.0, 115.0, 95.0, 253.0, 135.0, 28.0, 129.0, 28.0, 146.0, 115.0, 80.0, 62.0, 27.0, 37.0, 54.0, 23.0, 38.0, 31.0, 18.0, 108.0, 54.0, 39.0, 106.0, 42.911616054561954, 21.20018751334293, 21.199967773382063, 21.001670099253925, 20.649691376034482, 18.683303146370722, 18.792621560438114, 18.192652047879516, 22.160184960396517, 17.341647155623896, 23.51232273884295, 16.933272948351725, 40.52134610051665, 15.454439524597898, 16.291772085548484, 18.060213933539195, 13.31136303028617, 24.64368481266461, 46.4331768203557, 25.471008401501102, 12.155805365230004, 17.474245178068127, 10.397354263475117, 10.254208371970641, 10.002270840365261, 9.823281325902244, 12.985053015332266, 69.59910744736028, 9.340909368080705, 17.911036732123687, 27.090937994685934, 128.21603422912338, 65.74417737787901, 21.34519979478351, 51.49263721495541, 32.19141234376111, 39.048469391423865, 253.50919292476723, 58.481100034562104, 61.59280117249277, 322.4070577242149, 146.6238859213008, 244.27380227703995, 135.01304025256474, 45.98335701619574, 69.92266335401904, 72.80016046797512, 35.13921754218513, 32.8567646034173, 101.82773316803755, 129.3638782948701, 95.52672582836503, 115.4709567397909, 136.30887949841872, 118.11760413620067, 115.9066349834331, 74.3266313702511, 47.024640793389146, 95.9503292244922, 56.24678605766005, 108.33820502183092, 106.66835859292775, 58.91946316757773, 123.46231854121403, 80.6203110073912, 110.49149707950197, 10.236141199144907, 7.0611103607217816, 7.970947022657761, 6.862098631342865, 5.969722565643797, 5.86732644337004, 5.489251699819602, 6.534368024324084, 5.483994725566965, 8.751138482475563, 4.3811496309367195, 7.682240211217209, 4.22215891581191, 5.21450113592304, 4.134192419920164, 6.708975619772325, 5.437226384354252, 3.8735248243120175, 8.228259835778267, 3.657867483373841, 3.6582372858121053, 4.3029855624928794, 6.455988577643195, 3.660889076904287, 4.146832544205111, 3.339757042790996, 3.3396842719044835, 3.389325466914003, 12.286004334802158, 4.659893966375543, 6.450453050626487, 17.259838804597738, 28.329333341181894, 12.169850303655272, 14.432237962915897, 9.25670344131118, 12.664356171398223, 6.505403014576498, 6.487151450547288, 16.460648865853734, 31.811147541556092, 110.49149707950197, 10.45042546189491, 37.646061580975186, 30.990639319022204, 253.50919292476723, 108.33820502183092, 80.6203110073912, 135.01304025256474, 45.60064442833451, 52.729105794997956, 27.57742717040057, 16.891183515084997, 29.575831842166053, 56.08482466913078, 38.386154585932395, 56.299089526726505, 19.911615601508597, 30.214931241204624, 115.4709567397909, 106.66835859292775, 322.4070577242149, 74.3266313702511, 118.11760413620067, 55.16331870470613, 244.27380227703995, 95.9503292244922, 136.30887949841872, 8.77866730702074, 7.492677150210652, 7.258810566308257, 5.732344127807467, 8.572524206690979, 4.525111987129716, 5.9188511466345615, 3.790984199552524, 6.542123734582121, 6.339943581585843, 7.044330309348005, 3.541232924148426, 4.538165874047337, 3.7092747690713885, 3.1347170667739945, 4.1007193850754495, 3.1354418199185425, 3.08159355628344, 3.09487751733724, 3.067153095161829, 7.081148973312514, 3.028536575771741, 5.940257183326778, 2.913122427680182, 3.930432848015141, 6.73417720036668, 4.880077911115171, 7.721892629379454, 2.8863506835374113, 2.8636467002615813, 4.701436717671326, 6.078080777614549, 7.550823185271968, 6.1911936059498265, 6.18243209002929, 17.087505736271453, 27.763969222160114, 9.165014060991815, 12.08414612421576, 14.998199320199937, 7.374798182952364, 16.761385354690923, 123.46231854121403, 26.52577056717069, 115.9066349834331, 95.52672582836503, 17.065519609239374, 39.104879508398604, 322.4070577242149, 14.863196437729238, 38.386154585932395, 129.3638782948701, 146.6238859213008, 20.854251261053598, 244.27380227703995, 106.66835859292775, 62.5309720931519, 39.68708800594259, 33.537592622386335, 62.672958438105915, 29.394044286343096, 95.9503292244922, 58.91946316757773, 54.6227317525089, 36.458068786820824, 55.96041293269941, 110.49149707950197, 52.13960162887612, 29.28446406329109, 72.80016046797512, 135.01304025256474, 136.30887949841872, 108.33820502183092, 7.0042828222814775, 5.555613100278507, 4.935785155115179, 7.983735874595857, 4.7727514652372065, 3.8182028002845394, 3.869625439126909, 3.4793201651758427, 4.315542328411436, 4.316610760109593, 3.47983841348886, 5.107861247094406, 4.653442151557674, 4.377040884147935, 3.2843447736780456, 3.048080345608697, 3.0483072793983417, 3.0484296830161868, 4.029974620547121, 5.130657021648312, 7.330454646318179, 3.651460343229032, 8.581066858802288, 2.847132322959382, 2.8462741629429487, 3.2664291384388293, 2.8099198275751847, 3.2091971679825595, 2.8106424177379146, 2.8360134668727217, 7.676935974960149, 5.340471403897046, 8.264328958850065, 5.783947024639126, 4.595657590134909, 6.399206076687575, 34.18377588671033, 5.242412585306544, 9.664773273044453, 7.899204008712333, 23.915112747788395, 118.11760413620067, 71.31061147663284, 244.27380227703995, 136.30887949841872, 28.594232884612538, 12.430899788983591, 62.672958438105915, 15.189807400361241, 30.863141375401707, 123.46231854121403, 36.07732099468738, 322.4070577242149, 57.84553397181651, 29.63267658606584, 12.024091091064056, 57.480303521441286, 43.3794075668105, 129.3638782948701, 110.49149707950197, 106.66835859292775, 115.4709567397909, 55.16331870470613, 62.5309720931519, 108.33820502183092, 80.6203110073912, 146.6238859213008, 253.50919292476723, 95.9503292244922, 33.19553919211174, 55.96041293269941, 101.82773316803755, 6.176857384877319, 5.464147610276413, 5.464147610276413, 5.464147610276413, 5.464147610276413, 5.464147610276413, 5.464147610276413, 5.464147610276413, 7.957147541480683, 4.074515317551767, 3.6580335706986236, 3.6221959642046464, 4.600222993131945, 4.93656478507399, 2.901863462785771, 2.9021955267772563, 3.296069180611173, 4.657523273052366, 3.0915433759369293, 2.6781286694566737, 2.6783668962789355, 3.092237936634328, 2.7168768845273292, 2.6630348784619495, 3.0838517076889507, 2.897766785270642, 2.6859215334710322, 2.5339293948795523, 4.047925555465259, 2.530649938596598, 2.9099174309487212, 3.9430751292768322, 18.425854608935463, 5.232777142555327, 18.19400926431939, 21.716333719832676, 10.712304323019847, 7.313981996839591, 12.291304802916276, 8.899882914216558, 15.0435850424874, 15.875675418283912, 18.17582054709094, 115.4709567397909, 35.21778773899768, 24.34152341278162, 54.6227317525089, 322.4070577242149, 123.46231854121403, 20.268297987009163, 54.6666111251933, 101.82773316803755, 52.13960162887612, 34.79415377595506, 106.66835859292775, 56.299089526726505, 52.729105794997956, 47.632769385876614, 56.08482466913078, 95.9503292244922, 41.82672858886537, 19.43768710656126, 39.68708800594259, 115.9066349834331, 55.16331870470613], \"Category\": [\"Default\", \"Default\", \"Default\", \"Default\", \"Default\", \"Default\", \"Default\", \"Default\", \"Default\", \"Default\", \"Default\", \"Default\", \"Default\", \"Default\", \"Default\", \"Default\", \"Default\", \"Default\", \"Default\", \"Default\", \"Default\", \"Default\", \"Default\", \"Default\", \"Default\", \"Default\", \"Default\", \"Default\", \"Default\", \"Default\", \"Topic1\", \"Topic1\", \"Topic1\", \"Topic1\", \"Topic1\", \"Topic1\", \"Topic1\", \"Topic1\", \"Topic1\", \"Topic1\", \"Topic1\", \"Topic1\", \"Topic1\", \"Topic1\", \"Topic1\", \"Topic1\", \"Topic1\", \"Topic1\", \"Topic1\", \"Topic1\", \"Topic1\", \"Topic1\", \"Topic1\", \"Topic1\", \"Topic1\", \"Topic1\", \"Topic1\", \"Topic1\", \"Topic1\", \"Topic1\", \"Topic1\", \"Topic1\", \"Topic1\", \"Topic1\", \"Topic1\", \"Topic1\", \"Topic1\", \"Topic1\", \"Topic1\", \"Topic1\", \"Topic1\", \"Topic1\", \"Topic1\", \"Topic1\", \"Topic1\", \"Topic1\", \"Topic1\", \"Topic1\", \"Topic1\", \"Topic1\", \"Topic1\", \"Topic1\", \"Topic1\", \"Topic1\", \"Topic1\", \"Topic1\", \"Topic1\", \"Topic1\", \"Topic1\", \"Topic1\", \"Topic1\", \"Topic1\", \"Topic1\", \"Topic1\", \"Topic1\", \"Topic1\", \"Topic2\", \"Topic2\", \"Topic2\", \"Topic2\", \"Topic2\", \"Topic2\", \"Topic2\", \"Topic2\", \"Topic2\", \"Topic2\", \"Topic2\", \"Topic2\", \"Topic2\", \"Topic2\", \"Topic2\", \"Topic2\", \"Topic2\", \"Topic2\", \"Topic2\", \"Topic2\", \"Topic2\", \"Topic2\", \"Topic2\", \"Topic2\", \"Topic2\", \"Topic2\", \"Topic2\", \"Topic2\", \"Topic2\", \"Topic2\", \"Topic2\", \"Topic2\", \"Topic2\", \"Topic2\", \"Topic2\", \"Topic2\", \"Topic2\", \"Topic2\", \"Topic2\", \"Topic2\", \"Topic2\", \"Topic2\", \"Topic2\", \"Topic2\", \"Topic2\", \"Topic2\", \"Topic2\", \"Topic2\", \"Topic2\", \"Topic2\", \"Topic2\", \"Topic2\", \"Topic2\", \"Topic2\", \"Topic2\", \"Topic2\", \"Topic2\", \"Topic2\", \"Topic2\", \"Topic2\", \"Topic2\", \"Topic2\", \"Topic2\", \"Topic2\", \"Topic2\", \"Topic2\", \"Topic2\", \"Topic2\", \"Topic3\", \"Topic3\", \"Topic3\", \"Topic3\", \"Topic3\", \"Topic3\", \"Topic3\", \"Topic3\", \"Topic3\", \"Topic3\", \"Topic3\", \"Topic3\", \"Topic3\", \"Topic3\", \"Topic3\", \"Topic3\", \"Topic3\", \"Topic3\", \"Topic3\", \"Topic3\", \"Topic3\", \"Topic3\", \"Topic3\", \"Topic3\", \"Topic3\", \"Topic3\", \"Topic3\", \"Topic3\", \"Topic3\", \"Topic3\", \"Topic3\", \"Topic3\", \"Topic3\", \"Topic3\", \"Topic3\", \"Topic3\", \"Topic3\", \"Topic3\", \"Topic3\", \"Topic3\", \"Topic3\", \"Topic3\", \"Topic3\", \"Topic3\", \"Topic3\", \"Topic3\", \"Topic3\", \"Topic3\", \"Topic3\", \"Topic3\", \"Topic3\", \"Topic3\", \"Topic3\", \"Topic3\", \"Topic3\", \"Topic3\", \"Topic3\", \"Topic3\", \"Topic3\", \"Topic3\", \"Topic3\", \"Topic3\", \"Topic3\", \"Topic3\", \"Topic3\", \"Topic3\", \"Topic3\", \"Topic3\", \"Topic3\", \"Topic3\", \"Topic3\", \"Topic3\", \"Topic3\", \"Topic4\", \"Topic4\", \"Topic4\", \"Topic4\", \"Topic4\", \"Topic4\", \"Topic4\", \"Topic4\", \"Topic4\", \"Topic4\", \"Topic4\", \"Topic4\", \"Topic4\", \"Topic4\", \"Topic4\", \"Topic4\", \"Topic4\", \"Topic4\", \"Topic4\", \"Topic4\", \"Topic4\", \"Topic4\", \"Topic4\", \"Topic4\", \"Topic4\", \"Topic4\", \"Topic4\", \"Topic4\", \"Topic4\", \"Topic4\", \"Topic4\", \"Topic4\", \"Topic4\", \"Topic4\", \"Topic4\", \"Topic4\", \"Topic4\", \"Topic4\", \"Topic4\", \"Topic4\", \"Topic4\", \"Topic4\", \"Topic4\", \"Topic4\", \"Topic4\", \"Topic4\", \"Topic4\", \"Topic4\", \"Topic4\", \"Topic4\", \"Topic4\", \"Topic4\", \"Topic4\", \"Topic4\", \"Topic4\", \"Topic4\", \"Topic4\", \"Topic4\", \"Topic4\", \"Topic4\", \"Topic4\", \"Topic4\", \"Topic4\", \"Topic4\", \"Topic4\", \"Topic4\", \"Topic4\", \"Topic4\", \"Topic4\", \"Topic4\", \"Topic4\", \"Topic4\", \"Topic5\", \"Topic5\", \"Topic5\", \"Topic5\", \"Topic5\", \"Topic5\", \"Topic5\", \"Topic5\", \"Topic5\", \"Topic5\", \"Topic5\", \"Topic5\", \"Topic5\", \"Topic5\", \"Topic5\", \"Topic5\", \"Topic5\", \"Topic5\", \"Topic5\", \"Topic5\", \"Topic5\", \"Topic5\", \"Topic5\", \"Topic5\", \"Topic5\", \"Topic5\", \"Topic5\", \"Topic5\", \"Topic5\", \"Topic5\", \"Topic5\", \"Topic5\", \"Topic5\", \"Topic5\", \"Topic5\", \"Topic5\", \"Topic5\", \"Topic5\", \"Topic5\", \"Topic5\", \"Topic5\", \"Topic5\", \"Topic5\", \"Topic5\", \"Topic5\", \"Topic5\", \"Topic5\", \"Topic5\", \"Topic5\", \"Topic5\", \"Topic5\", \"Topic5\", \"Topic5\", \"Topic5\", \"Topic5\", \"Topic5\", \"Topic5\", \"Topic5\", \"Topic5\", \"Topic5\", \"Topic5\", \"Topic5\", \"Topic5\", \"Topic5\", \"Topic5\"], \"logprob\": [30.0, 29.0, 28.0, 27.0, 26.0, 25.0, 24.0, 23.0, 22.0, 21.0, 20.0, 19.0, 18.0, 17.0, 16.0, 15.0, 14.0, 13.0, 12.0, 11.0, 10.0, 9.0, 8.0, 7.0, 6.0, 5.0, 4.0, 3.0, 2.0, 1.0, -5.6635, -6.3701, -6.3702, -6.3803, -6.398, -6.5012, -6.4965, -6.5292, -6.3328, -6.5784, -6.274, -6.6028, -5.7321, -6.6978, -6.6455, -6.5451, -6.8532, -6.2384, -5.6138, -6.2149, -6.9567, -6.5943, -7.1143, -7.1301, -7.1556, -7.1744, -6.8962, -5.2174, -7.2278, -6.579, -6.1675, -4.6317, -5.3105, -6.4179, -5.5747, -6.0299, -5.873, -4.174, -5.5103, -5.4971, -4.0625, -4.7837, -4.3748, -4.8961, -5.7812, -5.4426, -5.4179, -6.0008, -6.0576, -5.1853, -5.0467, -5.2799, -5.1497, -5.0378, -5.1487, -5.167, -5.4963, -5.8132, -5.351, -5.7128, -5.3677, -5.3976, -5.7099, -5.4366, -5.6597, -5.7104, -5.9505, -6.3531, -6.2328, -6.3926, -6.5394, -6.5569, -6.6301, -6.4578, -6.6573, -6.1963, -6.8929, -6.3326, -6.9328, -6.7226, -6.9579, -6.4785, -6.6944, -7.0337, -6.2891, -7.1016, -7.1017, -6.9442, -6.5436, -7.1126, -6.9903, -7.2105, -7.2107, -7.1998, -5.9128, -6.883, -6.5626, -5.6083, -5.1295, -5.9494, -5.8419, -6.2572, -5.9777, -6.5847, -6.5998, -5.8761, -5.3621, -4.447, -6.2523, -5.3882, -5.6169, -4.3587, -4.8759, -5.0664, -4.7697, -5.4587, -5.4201, -5.785, -6.0358, -5.8197, -5.5438, -5.7279, -5.6512, -6.0384, -5.915, -5.5811, -5.6309, -5.3555, -5.729, -5.7581, -5.9015, -5.7738, -5.9023, -5.9272, -5.9715, -6.1435, -6.1776, -6.4386, -6.075, -6.7186, -6.4516, -6.9201, -6.3767, -6.4157, -6.3148, -7.0065, -6.7652, -6.9774, -7.1483, -6.8812, -7.1508, -7.1706, -7.1672, -7.1767, -6.3467, -7.1971, -6.5263, -7.2431, -6.9446, -6.4067, -6.7308, -6.2731, -7.2596, -7.2744, -6.7899, -6.5455, -6.3824, -6.5887, -6.6002, -5.7677, -5.3799, -6.299, -6.0933, -5.9279, -6.4835, -5.9193, -4.6152, -5.6518, -4.7453, -4.871, -5.9606, -5.4544, -4.1788, -6.0555, -5.4999, -4.7982, -4.7674, -5.8826, -4.8047, -5.2221, -5.4579, -5.6783, -5.7823, -5.5567, -5.8339, -5.42, -5.5981, -5.6262, -5.7768, -5.6809, -5.5764, -5.7765, -5.8865, -5.7806, -5.7288, -5.7836, -5.8238, -6.0718, -6.3338, -6.4661, -5.9935, -6.5222, -6.7663, -6.7532, -6.8777, -6.6643, -6.665, -6.8808, -6.5045, -6.6001, -6.6655, -6.9611, -7.0382, -7.0383, -7.0392, -6.7614, -6.5282, -6.1728, -6.8712, -6.0223, -7.1265, -7.128, -6.9932, -7.1469, -7.0145, -7.1505, -7.1418, -6.1511, -6.5156, -6.1161, -6.4688, -6.6924, -6.4011, -4.9774, -6.5873, -6.0911, -6.2872, -5.5156, -4.3732, -4.7787, -3.9788, -4.4091, -5.4876, -6.0359, -5.1194, -5.9869, -5.6266, -4.9451, -5.5845, -4.534, -5.4073, -5.7175, -6.1645, -5.5233, -5.6406, -5.2223, -5.3255, -5.3538, -5.3364, -5.671, -5.7187, -5.6172, -5.6988, -5.5994, -5.5651, -5.7637, -5.8953, -5.9318, -5.9328, -6.042, -6.1784, -6.1784, -6.1784, -6.1784, -6.1784, -6.1784, -6.1784, -5.8345, -6.5198, -6.6525, -6.6645, -6.4293, -6.3802, -6.9361, -6.9378, -6.819, -6.4799, -6.8905, -7.0413, -7.0423, -6.9007, -7.033, -7.0577, -6.9119, -6.9814, -7.0596, -7.118, -6.6523, -7.1307, -6.995, -6.7196, -5.4536, -6.5135, -5.6096, -5.591, -6.1058, -6.371, -6.0575, -6.2659, -5.9544, -5.9642, -5.8893, -4.9409, -5.6456, -5.8445, -5.4578, -4.7805, -5.1996, -5.9737, -5.6142, -5.472, -5.7018, -5.8422, -5.5856, -5.7714, -5.7982, -5.8323, -5.9279, -5.9554, -6.0254, -6.0793, -6.0408, -6.0387, -6.0567], \"loglift\": [30.0, 29.0, 28.0, 27.0, 26.0, 25.0, 24.0, 23.0, 22.0, 21.0, 20.0, 19.0, 18.0, 17.0, 16.0, 15.0, 14.0, 13.0, 12.0, 11.0, 10.0, 9.0, 8.0, 7.0, 6.0, 5.0, 4.0, 3.0, 2.0, 1.0, 0.6627, 0.6613, 0.6612, 0.6605, 0.6597, 0.6566, 0.6554, 0.6551, 0.6543, 0.6539, 0.6539, 0.6533, 0.6515, 0.6497, 0.6492, 0.6466, 0.6435, 0.6425, 0.6336, 0.6329, 0.6309, 0.6304, 0.6296, 0.6276, 0.6269, 0.6262, 0.6254, 0.6252, 0.6232, 0.621, 0.6187, 0.6, 0.5891, 0.6067, 0.5693, 0.5838, 0.5476, 0.376, 0.5064, 0.4677, 0.2471, 0.3138, 0.2123, 0.2839, 0.4759, 0.3954, 0.3798, 0.5252, 0.5356, 0.2768, 0.1761, 0.246, 0.1867, 0.1326, 0.165, 0.1656, 0.2806, 0.4216, 0.1705, 0.3428, 0.0324, 0.0181, 0.2994, -0.1671, 0.036, -0.33, 1.8089, 1.7777, 1.7768, 1.7667, 1.7593, 1.7591, 1.7525, 1.7506, 1.7263, 1.7199, 1.7152, 1.7139, 1.7123, 1.7114, 1.7082, 1.7034, 1.6977, 1.6975, 1.6887, 1.6869, 1.6867, 1.6819, 1.6768, 1.6751, 1.6728, 1.669, 1.6688, 1.6649, 1.6641, 1.6634, 1.6586, 1.6287, 1.612, 1.637, 1.574, 1.6029, 1.5689, 1.6281, 1.6158, 1.4083, 1.2635, 0.9334, 1.4864, 1.0689, 1.0348, 0.1913, 0.5243, 0.6292, 0.4103, 0.8068, 0.7001, 0.9834, 1.2228, 0.8787, 0.5147, 0.7098, 0.4035, 1.0557, 0.762, -0.2447, -0.2152, -1.0459, 0.0479, -0.4444, 0.1736, -1.1867, -0.3808, -0.7567, 1.9416, 1.928, 1.9256, 1.9007, 1.8618, 1.8571, 1.8557, 1.8327, 1.8305, 1.8229, 1.8183, 1.8144, 1.8077, 1.7972, 1.7945, 1.793, 1.7919, 1.7893, 1.7884, 1.7879, 1.7812, 1.7802, 1.7773, 1.7731, 1.7721, 1.7715, 1.7694, 1.7683, 1.7658, 1.7589, 1.7476, 1.7352, 1.6813, 1.6736, 1.6634, 1.4794, 1.3817, 1.571, 1.5002, 1.4496, 1.6038, 1.347, 0.6542, 1.1555, 0.5873, 0.655, 1.2877, 0.9647, 0.1307, 1.331, 0.9378, 0.4245, 0.3302, 1.1652, -0.2176, 0.1935, 0.4918, 0.7261, 0.7904, 0.3908, 0.8707, 0.1016, 0.4111, 0.4587, 0.7124, 0.3799, -0.1959, 0.355, 0.8219, 0.0171, -0.5487, -0.6132, -0.4237, 2.0671, 2.0368, 2.0228, 2.0145, 2.0003, 1.9793, 1.9791, 1.9608, 1.9589, 1.9579, 1.9576, 1.9501, 1.9477, 1.9435, 1.9351, 1.9327, 1.9325, 1.9316, 1.9303, 1.9219, 1.9205, 1.919, 1.9135, 1.9126, 1.9113, 1.9085, 1.9053, 1.9049, 1.9015, 1.9011, 1.896, 1.8945, 1.8573, 1.8615, 1.8679, 1.8281, 1.5762, 1.8413, 1.7258, 1.7314, 1.3953, 0.9405, 1.0396, 0.6083, 0.7614, 1.2446, 1.5293, 0.828, 1.3778, 1.0292, 0.3243, 0.9153, -0.2244, 0.6203, 0.9791, 1.434, 0.5106, 0.6748, 0.0004, 0.055, 0.0619, -0.0, 0.4041, 0.231, -0.2171, -0.0031, -0.5019, -1.0151, -0.2421, 0.6877, 0.1289, -0.4707, 2.2226, 2.2088, 2.2088, 2.2088, 2.2088, 2.2088, 2.2088, 2.2088, 2.1768, 2.1609, 2.136, 2.1338, 2.13, 2.1086, 2.0839, 2.0821, 2.0737, 2.067, 2.0662, 2.059, 2.0579, 2.0558, 2.0529, 2.0483, 2.0474, 2.0401, 2.0378, 2.0376, 2.0349, 2.0262, 2.0222, 1.9938, 1.718, 1.9169, 1.5747, 1.4164, 1.6082, 1.7246, 1.519, 1.6334, 1.42, 1.3564, 1.296, 0.3955, 0.8782, 1.0487, 0.6271, -0.4709, 0.0699, 1.1026, 0.4699, -0.0099, 0.4296, 0.6937, -0.1699, 0.2833, 0.322, 0.3896, 0.1306, -0.4338, 0.3264, 1.0388, 0.3636, -0.7061, 0.0184]}, \"token.table\": {\"Topic\": [1, 4, 1, 5, 4, 4, 2, 4, 3, 3, 1, 2, 3, 4, 5, 1, 2, 3, 5, 1, 5, 1, 2, 3, 4, 1, 2, 3, 4, 5, 2, 1, 2, 3, 4, 5, 3, 1, 2, 3, 5, 5, 1, 2, 3, 4, 5, 1, 2, 2, 1, 2, 5, 4, 1, 3, 5, 1, 3, 1, 3, 5, 1, 2, 3, 5, 5, 2, 3, 5, 3, 1, 1, 2, 3, 4, 5, 1, 5, 2, 1, 2, 3, 5, 4, 1, 3, 5, 4, 1, 2, 3, 1, 2, 5, 3, 1, 2, 3, 4, 1, 2, 3, 4, 5, 1, 1, 2, 3, 4, 5, 1, 2, 3, 4, 1, 3, 4, 1, 3, 5, 2, 1, 2, 4, 5, 1, 5, 4, 5, 1, 2, 3, 4, 5, 2, 5, 1, 2, 3, 4, 5, 1, 2, 3, 4, 5, 5, 2, 1, 2, 3, 4, 5, 2, 1, 2, 3, 4, 5, 1, 2, 5, 1, 2, 5, 1, 3, 1, 2, 3, 4, 5, 1, 3, 1, 3, 4, 4, 1, 2, 3, 4, 1, 3, 2, 4, 1, 2, 4, 1, 2, 3, 5, 1, 5, 1, 2, 3, 4, 5, 1, 4, 3, 3, 3, 1, 2, 3, 4, 5, 1, 2, 1, 2, 3, 4, 5, 4, 2, 3, 1, 2, 3, 4, 4, 1, 1, 2, 3, 5, 3, 1, 2, 4, 1, 2, 5, 1, 2, 1, 2, 3, 1, 4, 1, 1, 2, 3, 4, 5, 1, 3, 1, 3, 1, 2, 4, 1, 1, 4, 5, 1, 2, 3, 1, 2, 3, 4, 5, 4, 2, 1, 2, 3, 4, 5, 1, 2, 1, 2, 3, 4, 5, 3, 1, 2, 2, 1, 2, 4, 5, 2, 1, 2, 3, 4, 5, 1, 3, 1, 2, 2, 1, 2, 3, 4, 5, 2, 1, 1, 2, 1, 2, 3, 4, 5, 1, 5, 1, 2, 1, 4, 1, 2, 3, 4, 5, 5, 1, 2, 3, 4, 5, 1, 2, 3, 4, 1, 2, 3, 4, 5, 5, 1, 1, 3, 4, 1, 2, 3, 4, 5, 2, 1, 2, 3, 4, 2, 3, 1, 4, 1, 4, 4, 3, 1, 2, 3, 1, 2, 1, 2, 3, 1, 2, 1, 2, 3, 4, 5, 1, 2, 3, 4, 1, 1, 2, 4, 1, 2, 3, 4, 5, 1, 2, 4, 5, 1, 3, 4, 2, 2, 4, 1, 4, 1, 4, 1, 2, 3, 4, 5, 1, 4, 4, 3, 5, 4, 1, 2, 3, 4, 5, 1, 2, 3, 4, 5, 3, 2, 3, 5, 1, 2, 3, 4, 5, 4, 1, 2, 3, 5, 3, 2, 4, 5, 1, 1, 3, 5, 4, 1, 2, 3, 4, 1, 5, 5, 5, 4, 3, 1, 2, 5, 5, 4, 1, 2, 4, 5, 1, 4, 3, 4, 3, 5, 1, 2, 3, 1, 4, 1, 3, 1, 2, 3, 4, 5, 1, 2, 3, 4, 5, 1, 4, 2, 3, 1, 2, 5, 1, 2, 3, 4, 3, 1, 5, 1, 2, 3, 4, 5, 4, 3, 1, 2, 3, 1, 2, 3, 4, 5, 2, 5, 1, 4, 1, 3, 4, 1, 3, 5, 4, 5, 1, 2, 4, 1, 3, 4, 5, 1, 3, 4, 5, 1, 4, 1, 4, 1, 2, 4, 5, 1, 5, 1, 2, 3, 4, 5, 1, 2, 3, 4, 5, 3, 1, 4, 1, 2, 3, 4, 5, 3, 1, 2, 3, 4, 5, 2, 3, 4, 3, 4, 1, 2, 4, 1, 2, 3, 4, 5, 1, 2, 3, 4, 5, 1, 3, 1, 2, 5, 2, 1, 2, 3, 4, 5, 5, 1, 3, 5, 1, 2, 1, 3, 4, 1, 3, 5, 1, 2, 3, 4, 1, 2, 4, 1, 2, 3, 4, 5, 1, 2, 3, 4, 5, 1, 2, 3, 4, 5, 1, 5, 2, 1, 2, 3, 3, 4, 1, 2, 3, 4, 5, 1, 1, 2, 3, 1, 1, 2, 3, 4], \"Freq\": [0.1252546446560171, 0.8767825125921197, 0.9905572762874415, 0.7411203489030537, 0.8104080453855691, 0.8595787526145686, 0.8982885074609835, 0.7115810917027493, 0.8471625742385814, 0.9570241703144728, 0.47948199101993944, 0.09589639820398789, 0.19179279640797578, 0.07671711856319031, 0.15343423712638063, 0.41443459637851543, 0.09209657697300343, 0.09209657697300343, 0.41443459637851543, 0.1911031126985219, 0.5733093380955656, 0.1257420844304548, 0.5344038588294328, 0.22004864775329586, 0.09430656332284108, 0.5188568606247923, 0.05609263358105863, 0.08413895037158793, 0.3225326430910871, 0.014023158395264657, 0.9473826257510277, 0.32799014896070694, 0.2683555764223966, 0.29817286269155174, 0.08945185880746553, 0.029817286269155176, 0.6490148565900113, 0.49338133899597475, 0.04933813389959747, 0.1973525355983899, 0.29602880339758486, 0.7361393559605303, 0.8537469556339601, 0.028458231854465336, 0.11383292741786134, 0.028458231854465336, 0.6873047251199631, 0.14905405186640638, 0.8943243111984382, 0.7234437291643898, 0.4067916368662246, 0.08135832737324492, 0.4067916368662246, 0.9138594100152362, 0.3515861302430876, 0.46878150699078347, 0.11719537674769587, 0.2049147612423026, 0.8196590449692104, 0.14195813598816834, 0.85174881592901, 0.9150558068007733, 0.5482378662277402, 0.3508722343857537, 0.06578854394732882, 0.043859029298219214, 0.9150558068007733, 0.9295871301233583, 0.6469945713517816, 0.1617486428379454, 0.6984101774207373, 0.9448852592645081, 0.638564752126018, 0.07327792237511682, 0.2512385910004005, 0.020936549250033378, 0.010468274625016689, 0.9705948880336557, 0.9150558068007733, 0.9675408383815005, 0.4780691895109461, 0.13659119700312747, 0.3073301932570368, 0.06829559850156373, 0.9266529280250521, 0.5274703878025616, 0.43156668092936856, 0.8695230657235382, 0.8215890953226299, 0.3601790478869423, 0.07203580957738846, 0.5402685718304134, 0.990567543520838, 0.9141667699603038, 0.7467236855333774, 0.80878343794171, 0.9339200225974347, 0.014368000347652841, 0.014368000347652841, 0.028736000695305682, 0.6420454982008074, 0.05272837424837548, 0.15198178459825873, 0.09305007220301556, 0.06203338146867704, 0.9685374776695937, 0.43507172091066554, 0.1812798837127773, 0.10876793022766638, 0.16315189534149957, 0.09063994185638866, 0.29160997872929123, 0.1296044349907961, 0.2592088699815922, 0.32401108747699026, 0.12659503399292663, 0.12659503399292663, 0.6329751699646331, 0.32733174003176024, 0.6546634800635205, 0.6469260679203235, 0.8194730670552994, 0.05793796867521245, 0.8111315614529743, 0.1158759373504249, 0.9150558068007733, 0.20257001448123643, 0.8102800579249457, 0.6561506827998667, 0.7510228334504996, 0.9125223744708855, 0.03899668266969596, 0.03119734613575677, 0.015598673067878386, 0.007799336533939193, 0.7670915962494931, 0.7467901086342318, 0.6888372884497888, 0.03410085586385093, 0.184144621664795, 0.06820171172770186, 0.027280684691080744, 0.6784932857122481, 0.034794527472422974, 0.052191791208634465, 0.19136990109832638, 0.034794527472422974, 0.7892879746537168, 0.820149995492167, 0.7297565735807522, 0.1853976159907857, 0.02366778076478115, 0.04339093140209878, 0.019723150637317628, 0.8521768898081168, 0.41009310692664525, 0.24962189117274058, 0.14264108067013748, 0.07132054033506874, 0.10698081050260311, 0.4517493122965918, 0.4194815042754067, 0.0968034240635554, 0.2170862673615276, 0.2170862673615276, 0.542715668403819, 0.47096195151071035, 0.47096195151071035, 0.7655560870347143, 0.042530893724150795, 0.042530893724150795, 0.1275926811724524, 0.021265446862075398, 0.16151974298445224, 0.6460789719378089, 0.15773011023386185, 0.7886505511693093, 0.6232088261679748, 0.7857099679923849, 0.32635386703730973, 0.39887694860115636, 0.1813077039096165, 0.07252308156384661, 0.16834287963268968, 0.8417143981634484, 0.7744883887591542, 0.9268823465514269, 0.10346854207010227, 0.20693708414020454, 0.6208112524206136, 0.36012515077666446, 0.2572322505547603, 0.10289290022190413, 0.2572322505547603, 0.4494441150018335, 0.4494441150018335, 0.6788928114676246, 0.016972320286690615, 0.20366784344028738, 0.06788928114676246, 0.03394464057338123, 0.9228178073754373, 0.03691271229501749, 0.6929164953542198, 0.660384958200597, 0.6520704829357323, 0.34020497154405344, 0.17010248577202672, 0.30618447438964813, 0.13608198861762139, 0.034020497154405346, 0.16434055884806492, 0.8217027942403247, 0.5506305743236499, 0.23090959568411126, 0.053286829773256446, 0.035524553182170966, 0.12433593613759837, 0.7117640796626915, 0.9111925437815603, 0.13017036339736576, 0.6666022765774311, 0.22960745082111517, 0.07406691961971457, 0.022220075885914372, 0.8621089957427714, 0.9161908023817462, 0.5291393512382552, 0.05039422392745287, 0.2771682316009908, 0.1511826717823586, 0.8447585310272556, 0.9820908318618514, 0.7751393523458612, 0.15502787046917224, 0.28005178993591984, 0.28005178993591984, 0.466752983226533, 0.5022194180587914, 0.4519974762529123, 0.870712745720767, 0.05121839680710394, 0.07682759521065591, 0.7531132377551727, 0.24099623608165524, 0.9782104582123406, 0.9241394691135144, 0.5328223443882648, 0.1776074481294216, 0.05920248270980721, 0.1776074481294216, 0.9787559607775471, 0.02330371335184636, 0.9491354550968157, 0.055831497358636226, 0.9624556870163488, 0.02467835094913715, 0.02467835094913715, 0.9802990366164208, 0.9008613753978513, 0.031064185358546596, 0.06212837071709319, 0.6288281726780622, 0.3309621961463486, 0.03309621961463486, 0.3510437243612183, 0.029253643696768188, 0.029253643696768188, 0.5558192302385956, 0.029253643696768188, 0.9184341287849986, 0.911744130002436, 0.05496314668593242, 0.21985258674372968, 0.10992629337186484, 0.16488944005779724, 0.49466832017339174, 0.2870696519427668, 0.6698291878664558, 0.4057366860901503, 0.37192529558263776, 0.03381139050751253, 0.10143417152253757, 0.10143417152253757, 0.6462291282275859, 0.16278685449708546, 0.8139342724854273, 0.8982689344051611, 0.3779366761989754, 0.12597889206632512, 0.06298944603316256, 0.3779366761989754, 0.8583886304844812, 0.7111517440124482, 0.017778793600311205, 0.12445155520217843, 0.12445155520217843, 0.03555758720062241, 0.1166517557593463, 0.8165622903154242, 0.1541508638457385, 0.7707543192286924, 0.8497247165793744, 0.6062130424513772, 0.12124260849027543, 0.017320372641467918, 0.11258242216954147, 0.14722316745247732, 0.8851318733728792, 0.952305216941318, 0.2160596385830318, 0.7562087350406113, 0.516899832231073, 0.2584499161155365, 0.08307318732285103, 0.09230354146983448, 0.04615177073491724, 0.9752093615860677, 0.9150558068007733, 0.12153237986624851, 0.8507266590637396, 0.19577665712216585, 0.7831066284886634, 0.5458427115453243, 0.0629818513321528, 0.1259637026643056, 0.14695765310835654, 0.14695765310835654, 0.9150558068007733, 0.6181587980062853, 0.04503143561635191, 0.10643793872955905, 0.2128758774591181, 0.016375067496855238, 0.6075723572821018, 0.07147910085671787, 0.19656752735597413, 0.12508842649925625, 0.5211466386521352, 0.10971508182150214, 0.27428770455375534, 0.05485754091075107, 0.027428770455375534, 0.6485396152523841, 0.9412956049446183, 0.8521837234420773, 0.06087026596014838, 0.06087026596014838, 0.3982620164590791, 0.30343772682596504, 0.056894573779868444, 0.09482428963311408, 0.1327540054863597, 0.8781892515534475, 0.5209605306056123, 0.2852879096173591, 0.0744229329436589, 0.11163439941548835, 0.9130023708285838, 0.8839560239341624, 0.156269385298126, 0.7813469264906301, 0.21759671611449283, 0.6527901483434785, 0.8380909898900841, 0.9643453202223619, 0.13243589148670837, 0.13243589148670837, 0.6621794574335419, 0.9422477360019084, 0.039260322333412846, 0.17649550519890211, 0.7765802228751694, 0.03529910103978042, 0.23688531492626058, 0.7106559447787818, 0.8378775360080639, 0.03419908310236996, 0.0854977077559249, 0.03419908310236996, 0.01709954155118498, 0.3126127149083517, 0.3126127149083517, 0.33866377448404766, 0.05210211915139194, 0.9578227253771381, 0.33266547714135997, 0.16633273857067998, 0.49899821571203995, 0.6579739911271093, 0.08838456597229827, 0.07856405864204291, 0.06874355131178754, 0.09820507330255364, 0.8974178756680553, 0.01521047246895009, 0.04563141740685027, 0.03042094493790018, 0.14122002005166215, 0.8473201203099728, 0.8622374077633588, 0.9195865035871265, 0.9108709662856814, 0.7026729982792906, 0.24200391949043237, 0.7260117584712972, 0.9333019868919965, 0.040578347256173763, 0.5722297790651625, 0.07336279218784135, 0.07336279218784135, 0.24943349343866056, 0.036681396093920675, 0.9635036210451153, 0.7024612041638967, 0.744421561541425, 0.2536091672651954, 0.7608275017955861, 0.7752688334292324, 0.36201880739491465, 0.38917021794953327, 0.10860564221847441, 0.11765611240334727, 0.018100940369745733, 0.5952202501573689, 0.05411093183248808, 0.20098346109209858, 0.11595199678390303, 0.030920532475707474, 0.791351227566211, 0.7685918902789916, 0.1537183780557983, 0.7362838929766484, 0.4259211314227459, 0.08518422628454918, 0.1987631946639481, 0.08518422628454918, 0.22715793675879783, 0.7796272452285129, 0.6610305900267199, 0.028740460435944346, 0.11496184174377738, 0.20118322305161043, 0.9568029554692674, 0.8375598606165346, 0.899990677851441, 0.7446233909206529, 0.9476455199958873, 0.3333733532442044, 0.6000720358395679, 0.06667467064884088, 0.7052152690252929, 0.3291680972782506, 0.13166723891130025, 0.06583361945565012, 0.46083533618955086, 0.9634270695595144, 0.6891334445067181, 0.9150558068007733, 0.8282268628331193, 0.6560754906510272, 0.881413353107039, 0.15489494567306952, 0.7744747283653476, 0.6901866672521773, 0.8201127578572358, 0.6561018351124855, 0.6951226574659128, 0.12804891058582604, 0.018292701512260864, 0.1463416120980869, 0.936978814547697, 0.04684894072738485, 0.19075186924485954, 0.7630074769794382, 0.911300055032499, 0.7903108088940676, 0.1295019301609173, 0.1295019301609173, 0.7770115809655037, 0.40222349828860005, 0.56311289760404, 0.9049174176039356, 0.8722435165301953, 0.3392926881128477, 0.15079675027237677, 0.4146910632490361, 0.07539837513618838, 0.03769918756809419, 0.44349191012148886, 0.22174595506074443, 0.027718244382593054, 0.27718244382593055, 0.027718244382593054, 0.11653562621694526, 0.8157493835186168, 0.14849624092837196, 0.7424812046418598, 0.9894104472853934, 0.8200670884950589, 0.9713677402832198, 0.7955475163854588, 0.08117831799851621, 0.06494265439881297, 0.04870699079910972, 0.7632747119735153, 0.214706388218354, 0.858825552873416, 0.5993627266567962, 0.04610482512744586, 0.11526206281861466, 0.23052412563722932, 0.02305241256372293, 0.9134242007852251, 0.9342455119400412, 0.8046389476733566, 0.04349399717153279, 0.13048199151459838, 0.49575432721275375, 0.12793660057103323, 0.22388905099930814, 0.14392867564241238, 0.015992075071379154, 0.12567317556787666, 0.8797122289751366, 0.18724938762339977, 0.7489975504935991, 0.2983046982211811, 0.536948456798126, 0.17898281893270865, 0.3988410995819333, 0.19942054979096666, 0.3988410995819333, 0.856618750589749, 0.9101750708532537, 0.41814563474825234, 0.08362912694965047, 0.4599601982230776, 0.1367244273272897, 0.1367244273272897, 0.1367244273272897, 0.5468977093091588, 0.47245141556275116, 0.13498611873221464, 0.3037187671474829, 0.06749305936610732, 0.5945254789174022, 0.38469295694655437, 0.13641718668872246, 0.8185031201323347, 0.7650610286676512, 0.0478163142917282, 0.0478163142917282, 0.14344894287518462, 0.8997956707670335, 0.6892123029386132, 0.7436787660207329, 0.12871363258051147, 0.05720605892467177, 0.014301514731167942, 0.04290454419350382, 0.5062419700867158, 0.12187306687272788, 0.15937247206433644, 0.12187306687272788, 0.0843736616811193, 0.6865485573130092, 0.13026030219109533, 0.7815618131465719, 0.5953067312312397, 0.06039343650171996, 0.24157374600687984, 0.06039343650171996, 0.051765802715759965, 0.7315789543948038, 0.5940573676056782, 0.1042205908080137, 0.1459088271312192, 0.09379853172721234, 0.06253235448480822, 0.8743680792629239, 0.7642778099059259, 0.1528555619811852, 0.8226280931334281, 0.16452561862668563, 0.1385786463013612, 0.7621825546574866, 0.0692893231506806, 0.6592522639148156, 0.16144953401995485, 0.04036238350498871, 0.06727063917498119, 0.06727063917498119, 0.8933316001659333, 0.03884050435504058, 0.03884050435504058, 0.01942025217752029, 0.01942025217752029, 0.21270093804332033, 0.8508037521732813, 0.6162309460106992, 0.08216412613475989, 0.2875744414716596, 0.9769306426561766, 0.3669844311357053, 0.09573506899192312, 0.19147013798384624, 0.255293517311795, 0.06382337932794875, 0.6467807591083536, 0.3511337519123033, 0.5852229198538389, 0.05852229198538388, 0.9156332555114628, 0.057227078469466425, 0.24825916280408225, 0.5792713798761919, 0.16550610853605485, 0.13559693095217265, 0.6779846547608632, 0.13559693095217265, 0.5704848366699883, 0.10372451575817969, 0.12101193505120963, 0.20744903151635938, 0.9475983125218986, 0.021536325284588605, 0.04307265056917721, 0.5926296974266718, 0.10159366241600087, 0.00846613853466674, 0.2963148487133359, 0.00846613853466674, 0.530914494196237, 0.054922189054783147, 0.2013813598675382, 0.036614792703188764, 0.18307396351594382, 0.46030061276967027, 0.025572256264981684, 0.35801158770974356, 0.1278612813249084, 0.025572256264981684, 0.6051996371498376, 0.3301088929908205, 0.9182219271496636, 0.30375473292380895, 0.6075094658476179, 0.060750946584761795, 0.17289231656861387, 0.6915692662744555, 0.421181139431149, 0.056697461077270056, 0.2591883934960917, 0.1619927459350573, 0.10529528485778725, 0.9617831369975549, 0.4781376655107126, 0.4515744618712285, 0.053126407278968064, 0.9766092300557235, 0.7280203732973194, 0.05494493383375995, 0.1373623345843999, 0.06868116729219995], \"Term\": [\"action\", \"action\", \"add_closet\", \"addict\", \"af\", \"affirmative\", \"africa\", \"ahead\", \"air\", \"am\", \"ask\", \"ask\", \"ask\", \"ask\", \"ask\", \"ass\", \"ass\", \"ass\", \"ass\", \"ave\", \"ave\", \"bad\", \"bad\", \"bad\", \"bad\", \"barista\", \"barista\", \"barista\", \"barista\", \"barista\", \"bathroom\", \"bc\", \"bc\", \"bc\", \"bc\", \"bc\", \"beg\", \"believe\", \"believe\", \"believe\", \"believe\", \"bhavan\", \"big\", \"big\", \"big\", \"big\", \"bike\", \"billionaire\", \"billionaire\", \"bitter\", \"black\", \"black\", \"black\", \"blonde\", \"blue\", \"blue\", \"blue\", \"blvd\", \"blvd\", \"book\", \"book\", \"book_harlem\", \"bring\", \"bring\", \"bring\", \"bring\", \"brooklyn_public\", \"bs\", \"btw\", \"btw\", \"bubble\", \"busy\", \"buy\", \"buy\", \"buy\", \"buy\", \"buy\", \"cafe\", \"cafe_worker\", \"canada\", \"car\", \"car\", \"car\", \"car\", \"carbon\", \"care\", \"care\", \"celiac\", \"central\", \"check\", \"check\", \"check\", \"check_listing\", \"cheese_danish\", \"chef\", \"christian\", \"christmas\", \"christmas\", \"christmas\", \"christmas\", \"coffee\", \"coffee\", \"coffee\", \"coffee\", \"coffee\", \"cold_brew\", \"come\", \"come\", \"come\", \"come\", \"come\", \"company\", \"company\", \"company\", \"company\", \"completely\", \"completely\", \"completely\", \"conservative\", \"conservative\", \"contamination\", \"continue\", \"cookie\", \"cookie\", \"cookie\", \"council_run\", \"cover\", \"cover\", \"crowd\", \"crush\", \"cup\", \"cup\", \"cup\", \"cup\", \"cup\", \"customer_service\", \"dairy\", \"day\", \"day\", \"day\", \"day\", \"day\", \"dog\", \"dog\", \"dog\", \"dog\", \"dog\", \"dream\", \"dress\", \"drink\", \"drink\", \"drink\", \"drink\", \"drink\", \"drinks\", \"drive\", \"drive\", \"drive\", \"drive\", \"drive\", \"dunkin\", \"dunkin\", \"dunkin\", \"eat\", \"eat\", \"eat\", \"elon\", \"elon\", \"employee\", \"employee\", \"employee\", \"employee\", \"employee\", \"enter_win\", \"enter_win\", \"entire\", \"entire\", \"ethereum\", \"exact\", \"feel\", \"feel\", \"feel\", \"feel\", \"finally\", \"finally\", \"flirt\", \"footprint\", \"force\", \"force\", \"force\", \"forget\", \"forget\", \"forget\", \"forget\", \"fr\", \"fr\", \"free\", \"free\", \"free\", \"free\", \"free\", \"friend\", \"friend\", \"fuel\", \"gang\", \"general\", \"gift_card\", \"gift_card\", \"gift_card\", \"gift_card\", \"gift_card\", \"gingerbread_latte\", \"gingerbread_latte\", \"girl\", \"girl\", \"girl\", \"girl\", \"girl\", \"giveaway\", \"god\", \"god\", \"good\", \"good\", \"good\", \"good\", \"google\", \"gorgeous\", \"great\", \"great\", \"great\", \"great\", \"grow\", \"guide_dog\", \"ha\", \"ha\", \"half\", \"half\", \"half\", \"happen\", \"happen\", \"happy\", \"happy\", \"happy\", \"hate\", \"hate\", \"help\", \"hey\", \"high\", \"high\", \"high\", \"high\", \"holiday\", \"holiday\", \"holiday_cup\", \"holiday_cup\", \"holiday_drink\", \"holiday_drink\", \"holiday_drink\", \"holiday_season\", \"home\", \"home\", \"home\", \"hot\", \"hot\", \"hot\", \"hour\", \"hour\", \"hour\", \"hour\", \"hour\", \"hungry\", \"husband\", \"ice\", \"ice\", \"ice\", \"ice\", \"ice\", \"iced_sugar\", \"iced_sugar\", \"ill\", \"ill\", \"ill\", \"ill\", \"ill\", \"immaculate\", \"include\", \"include\", \"india\", \"inside\", \"inside\", \"inside\", \"inside\", \"interview\", \"job\", \"job\", \"job\", \"job\", \"job\", \"join\", \"join\", \"join_team\", \"join_team\", \"karen_employee\", \"know\", \"know\", \"know\", \"know\", \"know\", \"ko\", \"lady\", \"late_job\", \"late_job\", \"latte\", \"latte\", \"latte\", \"latte\", \"latte\", \"laugh\", \"lawmaker_plots\", \"left\", \"left\", \"lemonade\", \"lemonade\", \"let\", \"let\", \"let\", \"let\", \"let\", \"library_sell\", \"like\", \"like\", \"like\", \"like\", \"like\", \"line\", \"line\", \"line\", \"line\", \"literally\", \"literally\", \"literally\", \"literally\", \"literally\", \"litter\", \"lmao\", \"local\", \"local\", \"local\", \"lol\", \"lol\", \"lol\", \"lol\", \"lol\", \"long_island\", \"love\", \"love\", \"love\", \"love\", \"loyalty\", \"maam\", \"male\", \"male\", \"management\", \"management\", \"marketing\", \"medicine_ball\", \"meeting\", \"meeting\", \"meeting\", \"menu\", \"menu\", \"minute\", \"minute\", \"minute\", \"mobile_order\", \"mobile_order\", \"month\", \"month\", \"month\", \"month\", \"month\", \"morning\", \"morning\", \"morning\", \"morning\", \"mug\", \"near\", \"near\", \"near\", \"need\", \"need\", \"need\", \"need\", \"need\", \"new\", \"new\", \"new\", \"new\", \"noble\", \"noble\", \"nope\", \"north\", \"obviously\", \"office\", \"omfg\", \"omfg\", \"open\", \"open\", \"order\", \"order\", \"order\", \"order\", \"order\", \"ornament\", \"outlet\", \"page\", \"park\", \"park\", \"partner\", \"pay\", \"pay\", \"pay\", \"pay\", \"pay\", \"people\", \"people\", \"people\", \"people\", \"people\", \"personal\", \"personally\", \"personally\", \"pistachio\", \"place\", \"place\", \"place\", \"place\", \"place\", \"plastic_cup\", \"play\", \"play\", \"play\", \"play\", \"plaza\", \"pls\", \"polygon\", \"position\", \"post\", \"ppl\", \"ppl\", \"ppl\", \"praline\", \"program\", \"program\", \"program\", \"program\", \"pumpkin\", \"purse\", \"push_join\", \"random\", \"recent\", \"referral\", \"remind\", \"remind\", \"remove\", \"replace\", \"result\", \"right\", \"right\", \"right\", \"right\", \"rn\", \"rn\", \"salt\", \"salt\", \"sandwich\", \"scene\", \"score_job\", \"score_job\", \"score_job\", \"scream\", \"scream\", \"seasonal\", \"secret\", \"sell\", \"sell\", \"sell\", \"sell\", \"sell\", \"shit\", \"shit\", \"shit\", \"shit\", \"shit\", \"shoot\", \"shoot\", \"sick\", \"sick\", \"sip\", \"sm\", \"song\", \"spend\", \"spend\", \"spend\", \"spend\", \"spill\", \"stare\", \"stare\", \"start\", \"start\", \"start\", \"start\", \"start\", \"stephen\", \"sticker\", \"stop\", \"stop\", \"stop\", \"store\", \"store\", \"store\", \"store\", \"store\", \"story\", \"story\", \"study\", \"study\", \"suck\", \"suck\", \"suck\", \"sugar\", \"sugar\", \"sugar\", \"supply\", \"swirl\", \"talk\", \"talk\", \"talk\", \"tall\", \"tall\", \"tall\", \"tall\", \"target\", \"target\", \"target\", \"target\", \"taste\", \"taste\", \"tbh\", \"tbh\", \"tell\", \"tell\", \"tell\", \"tell\", \"tf\", \"theirs\", \"thing\", \"thing\", \"thing\", \"thing\", \"thing\", \"think\", \"think\", \"think\", \"think\", \"think\", \"tick\", \"ticket\", \"ticket\", \"time\", \"time\", \"time\", \"time\", \"time\", \"timer\", \"today\", \"today\", \"today\", \"today\", \"today\", \"totally\", \"town\", \"town\", \"traffic\", \"traffic\", \"trash\", \"trash\", \"trash\", \"try\", \"try\", \"try\", \"try\", \"try\", \"twitter\", \"twitter\", \"twitter\", \"twitter\", \"twitter\", \"ugh\", \"ugh\", \"union\", \"union\", \"union\", \"ur\", \"use\", \"use\", \"use\", \"use\", \"use\", \"valley\", \"value\", \"value\", \"value\", \"visit\", \"visit\", \"vote\", \"vote\", \"vote\", \"wa\", \"wa\", \"wa\", \"wait\", \"wait\", \"wait\", \"wait\", \"walk\", \"walk\", \"walk\", \"want\", \"want\", \"want\", \"want\", \"want\", \"way\", \"way\", \"way\", \"way\", \"way\", \"week\", \"week\", \"week\", \"week\", \"week\", \"white\", \"white\", \"wife\", \"win\", \"win\", \"win\", \"woke\", \"woke\", \"work\", \"work\", \"work\", \"work\", \"work\", \"work_hire\", \"worker\", \"worker\", \"worker\", \"wtf\", \"year\", \"year\", \"year\", \"year\"]}, \"R\": 30, \"lambda.step\": 0.01, \"plot.opts\": {\"xlab\": \"PC1\", \"ylab\": \"PC2\"}, \"topic.order\": [1, 2, 3, 4, 5]};\n",
       "\n",
       "function LDAvis_load_lib(url, callback){\n",
       "  var s = document.createElement('script');\n",
       "  s.src = url;\n",
       "  s.async = true;\n",
       "  s.onreadystatechange = s.onload = callback;\n",
       "  s.onerror = function(){console.warn(\"failed to load library \" + url);};\n",
       "  document.getElementsByTagName(\"head\")[0].appendChild(s);\n",
       "}\n",
       "\n",
       "if(typeof(LDAvis) !== \"undefined\"){\n",
       "   // already loaded: just create the visualization\n",
       "   !function(LDAvis){\n",
       "       new LDAvis(\"#\" + \"ldavis_el8078958878738723214082821\", ldavis_el8078958878738723214082821_data);\n",
       "   }(LDAvis);\n",
       "}else if(typeof define === \"function\" && define.amd){\n",
       "   // require.js is available: use it to load d3/LDAvis\n",
       "   require.config({paths: {d3: \"https://d3js.org/d3.v5\"}});\n",
       "   require([\"d3\"], function(d3){\n",
       "      window.d3 = d3;\n",
       "      LDAvis_load_lib(\"https://cdn.jsdelivr.net/gh/bmabey/pyLDAvis@3.3.1/pyLDAvis/js/ldavis.v3.0.0.js\", function(){\n",
       "        new LDAvis(\"#\" + \"ldavis_el8078958878738723214082821\", ldavis_el8078958878738723214082821_data);\n",
       "      });\n",
       "    });\n",
       "}else{\n",
       "    // require.js not available: dynamically load d3 & LDAvis\n",
       "    LDAvis_load_lib(\"https://d3js.org/d3.v5.js\", function(){\n",
       "         LDAvis_load_lib(\"https://cdn.jsdelivr.net/gh/bmabey/pyLDAvis@3.3.1/pyLDAvis/js/ldavis.v3.0.0.js\", function(){\n",
       "                 new LDAvis(\"#\" + \"ldavis_el8078958878738723214082821\", ldavis_el8078958878738723214082821_data);\n",
       "            })\n",
       "         });\n",
       "}\n",
       "</script>"
      ],
      "text/plain": [
       "PreparedData(topic_coordinates=              x         y  topics  cluster       Freq\n",
       "topic                                                \n",
       "0      0.110879  0.016139       1        1  50.150585\n",
       "1      0.011384  0.125102       2        1  15.361375\n",
       "2      0.006357 -0.039690       3        1  13.306760\n",
       "3      0.023906 -0.104576       4        1  11.483632\n",
       "4     -0.152527  0.003025       5        1   9.697648, topic_info=        Term        Freq       Total Category  logprob  loglift\n",
       "38      like  244.000000  244.000000  Default  30.0000  30.0000\n",
       "14      want  118.000000  118.000000  Default  29.0000  29.0000\n",
       "40     order  136.000000  136.000000  Default  28.0000  28.0000\n",
       "78       pay  110.000000  110.000000  Default  27.0000  27.0000\n",
       "365     work  123.000000  123.000000  Default  26.0000  26.0000\n",
       "...      ...         ...         ...      ...      ...      ...\n",
       "93      tell    5.621867   41.826729   Topic5  -6.0254   0.3264\n",
       "354   forget    5.326856   19.437687   Topic5  -6.0793   1.0388\n",
       "141    great    5.536262   39.687088   Topic5  -6.0408   0.3636\n",
       "194     time    5.547984  115.906635   Topic5  -6.0387  -0.7061\n",
       "1137    come    5.448631   55.163319   Topic5  -6.0567   0.0184\n",
       "\n",
       "[374 rows x 6 columns], token_table=      Topic      Freq        Term\n",
       "term                             \n",
       "311       1  0.125255      action\n",
       "311       4  0.876783      action\n",
       "1490      1  0.990557  add_closet\n",
       "3050      5  0.741120      addict\n",
       "726       4  0.810408          af\n",
       "...     ...       ...         ...\n",
       "309       1  0.976609         wtf\n",
       "145       1  0.728020        year\n",
       "145       2  0.054945        year\n",
       "145       3  0.137362        year\n",
       "145       4  0.068681        year\n",
       "\n",
       "[665 rows x 3 columns], R=30, lambda_step=0.01, plot_opts={'xlab': 'PC1', 'ylab': 'PC2'}, topic_order=[1, 2, 3, 4, 5])"
      ]
     },
     "execution_count": 15,
     "metadata": {},
     "output_type": "execute_result"
    }
   ],
   "source": [
    "LDAvis_prepared = pyLDAvis.gensim_models.prepare(lda_model, corpus, id2word)\n",
    "LDAvis_prepared"
   ]
  },
  {
   "cell_type": "code",
   "execution_count": 11,
   "metadata": {},
   "outputs": [
    {
     "name": "stderr",
     "output_type": "stream",
     "text": [
      "100%|██████████| 3313/3313 [00:01<00:00, 1900.61it/s]\n"
     ]
    }
   ],
   "source": [
    "def dominant_topics(ldamodel, corpus, tweets):\n",
    "    sent_topics_df = pd.DataFrame()\n",
    "    for row in tqdm(ldamodel[corpus]):\n",
    "        row = sorted(row[0], key=lambda x: (x[1]), reverse=True)\n",
    "        for j, (topic_num, prop_topic) in enumerate(row):\n",
    "            if j==0:\n",
    "                wp = ldamodel.show_topic(topic_num)\n",
    "                topic_keywords = \", \".join([word for word, prop in wp])\n",
    "                sent_topics_df = sent_topics_df.append(\n",
    "                    pd.Series([int(topic_num), round(prop_topic,4), topic_keywords]), ignore_index=True\n",
    "                )\n",
    "            else:\n",
    "                break\n",
    "    sent_topics_df.columns = ['Dominant_Topic', 'Perc_Contribution', 'Topic_Keywords']\n",
    "    contents = pd.Series(tweets)\n",
    "    sent_topics_df = pd.concat([sent_topics_df, contents], axis=1)\n",
    "    sent_topics_df.rename(columns={0: \"Tweet\"}, inplace=True)\n",
    "    return sent_topics_df.copy()\n",
    "\n",
    "topics_df = dominant_topics(ldamodel=lda_model, corpus=corpus, tweets=df['tweet'].values.tolist())"
   ]
  },
  {
   "cell_type": "code",
   "execution_count": 12,
   "metadata": {},
   "outputs": [
    {
     "data": {
      "text/html": [
       "<div>\n",
       "<style scoped>\n",
       "    .dataframe tbody tr th:only-of-type {\n",
       "        vertical-align: middle;\n",
       "    }\n",
       "\n",
       "    .dataframe tbody tr th {\n",
       "        vertical-align: top;\n",
       "    }\n",
       "\n",
       "    .dataframe thead th {\n",
       "        text-align: right;\n",
       "    }\n",
       "</style>\n",
       "<table border=\"1\" class=\"dataframe\">\n",
       "  <thead>\n",
       "    <tr style=\"text-align: right;\">\n",
       "      <th></th>\n",
       "      <th>Dominant_Topic</th>\n",
       "      <th>Perc_Contribution</th>\n",
       "      <th>Topic_Keywords</th>\n",
       "      <th>Tweet</th>\n",
       "    </tr>\n",
       "  </thead>\n",
       "  <tbody>\n",
       "    <tr>\n",
       "      <th>0</th>\n",
       "      <td>0</td>\n",
       "      <td>0.8766</td>\n",
       "      <td>coffee, drink, like, cup, want, good, order, d...</td>\n",
       "      <td>WHY Y’all lie &amp;amp; say Starbucks took EBT now...</td>\n",
       "    </tr>\n",
       "    <tr>\n",
       "      <th>1</th>\n",
       "      <td>0</td>\n",
       "      <td>0.8473</td>\n",
       "      <td>coffee, drink, like, cup, want, good, order, d...</td>\n",
       "      <td>Thanks A Latta Giveaway\\n#WIN a $10 Starbucks ...</td>\n",
       "    </tr>\n",
       "    <tr>\n",
       "      <th>2</th>\n",
       "      <td>3</td>\n",
       "      <td>0.6863</td>\n",
       "      <td>like, order, want, use, drink, coffee, hour, p...</td>\n",
       "      <td>I used to hate Starbucks but now I love it so ...</td>\n",
       "    </tr>\n",
       "    <tr>\n",
       "      <th>3</th>\n",
       "      <td>0</td>\n",
       "      <td>0.7870</td>\n",
       "      <td>coffee, drink, like, cup, want, good, order, d...</td>\n",
       "      <td>philz needs to replace the starbucks on story ...</td>\n",
       "    </tr>\n",
       "    <tr>\n",
       "      <th>4</th>\n",
       "      <td>2</td>\n",
       "      <td>0.7681</td>\n",
       "      <td>coffee, work, day, time, people, like, think, ...</td>\n",
       "      <td>@staceyabrams @BeeForGeorgia There were more p...</td>\n",
       "    </tr>\n",
       "  </tbody>\n",
       "</table>\n",
       "</div>"
      ],
      "text/plain": [
       "   Dominant_Topic  Perc_Contribution  \\\n",
       "0               0             0.8766   \n",
       "1               0             0.8473   \n",
       "2               3             0.6863   \n",
       "3               0             0.7870   \n",
       "4               2             0.7681   \n",
       "\n",
       "                                      Topic_Keywords  \\\n",
       "0  coffee, drink, like, cup, want, good, order, d...   \n",
       "1  coffee, drink, like, cup, want, good, order, d...   \n",
       "2  like, order, want, use, drink, coffee, hour, p...   \n",
       "3  coffee, drink, like, cup, want, good, order, d...   \n",
       "4  coffee, work, day, time, people, like, think, ...   \n",
       "\n",
       "                                               Tweet  \n",
       "0  WHY Y’all lie &amp; say Starbucks took EBT now...  \n",
       "1  Thanks A Latta Giveaway\\n#WIN a $10 Starbucks ...  \n",
       "2  I used to hate Starbucks but now I love it so ...  \n",
       "3  philz needs to replace the starbucks on story ...  \n",
       "4  @staceyabrams @BeeForGeorgia There were more p...  "
      ]
     },
     "execution_count": 12,
     "metadata": {},
     "output_type": "execute_result"
    }
   ],
   "source": [
    "topics_df.head()"
   ]
  },
  {
   "cell_type": "code",
   "execution_count": null,
   "metadata": {},
   "outputs": [],
   "source": []
  }
 ],
 "metadata": {
  "kernelspec": {
   "display_name": "project",
   "language": "python",
   "name": "python3"
  },
  "language_info": {
   "codemirror_mode": {
    "name": "ipython",
    "version": 3
   },
   "file_extension": ".py",
   "mimetype": "text/x-python",
   "name": "python",
   "nbconvert_exporter": "python",
   "pygments_lexer": "ipython3",
   "version": "3.8.13"
  },
  "orig_nbformat": 4,
  "vscode": {
   "interpreter": {
    "hash": "af77eb27f514ee114388f6898d9553454263f7eea260918546d16a8e581c8922"
   }
  }
 },
 "nbformat": 4,
 "nbformat_minor": 2
}
